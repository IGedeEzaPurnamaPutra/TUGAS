{
 "cells": [
  {
   "cell_type": "markdown",
   "id": "8bb76772",
   "metadata": {},
   "source": [
    "# 5.1 Print"
   ]
  },
  {
   "cell_type": "code",
   "execution_count": 1,
   "id": "a5ced92e",
   "metadata": {},
   "outputs": [
    {
     "name": "stdout",
     "output_type": "stream",
     "text": [
      "Ini Kelas Algoritma!\n"
     ]
    }
   ],
   "source": [
    "print('Ini Kelas Algoritma!')"
   ]
  },
  {
   "cell_type": "code",
   "execution_count": 2,
   "id": "296bda2b",
   "metadata": {},
   "outputs": [
    {
     "name": "stdout",
     "output_type": "stream",
     "text": [
      "Ini kelas Algoritma\n"
     ]
    }
   ],
   "source": [
    "print('Ini kelas Algoritma')"
   ]
  },
  {
   "cell_type": "code",
   "execution_count": 3,
   "id": "6a873d7a",
   "metadata": {},
   "outputs": [
    {
     "name": "stdout",
     "output_type": "stream",
     "text": [
      "He is such a \"GENIUS\"\n"
     ]
    }
   ],
   "source": [
    "print('He is such a \"GENIUS\"')"
   ]
  },
  {
   "cell_type": "code",
   "execution_count": null,
   "id": "344c69d0",
   "metadata": {},
   "outputs": [],
   "source": [
    "print(\"He is such a \"GENIUS\"\")"
   ]
  },
  {
   "cell_type": "code",
   "execution_count": 6,
   "id": "e0f31514",
   "metadata": {},
   "outputs": [
    {
     "name": "stdout",
     "output_type": "stream",
     "text": [
      "35\n",
      "100000\n",
      "3500000\n"
     ]
    }
   ],
   "source": [
    "mahasiswa_035 = 35\n",
    "uang_di_dompet_035 = 100000\n",
    "print(mahasiswa_035)\n",
    "print(uang_di_dompet_035)\n",
    "print(mahasiswa_035*uang_di_dompet_035)"
   ]
  },
  {
   "cell_type": "code",
   "execution_count": 7,
   "id": "c1a5d687",
   "metadata": {},
   "outputs": [
    {
     "name": "stdout",
     "output_type": "stream",
     "text": [
      "Eza Purnama\n"
     ]
    }
   ],
   "source": [
    "nama_depan_035 = 'Eza'\n",
    "nama_tengah_035 = ' '\n",
    "nama_belakang_035 = \"Purnama\"\n",
    "print(nama_depan_035 + nama_tengah_035 + nama_belakang_035)"
   ]
  },
  {
   "cell_type": "markdown",
   "id": "2429ed13",
   "metadata": {},
   "source": [
    "# 5.2 Input"
   ]
  },
  {
   "cell_type": "code",
   "execution_count": 9,
   "id": "d8db46a9",
   "metadata": {},
   "outputs": [
    {
     "name": "stdout",
     "output_type": "stream",
     "text": [
      "Siapakah nama anda? Eza\n",
      "Apakah yang akan anda lakukan sekarang, Eza? Belajar\n",
      "Semangat Belajarnya yah, Eza!\n"
     ]
    }
   ],
   "source": [
    "nama_035 = input(\"Siapakah nama anda? \")\n",
    "kegiatan_sekarang_035 = input('Apakah yang akan anda lakukan sekarang, ' + nama_035 +\"? \")\n",
    "print('Semangat ' + kegiatan_sekarang_035 +\"nya yah, \" + nama_035 +\"!\")"
   ]
  },
  {
   "cell_type": "code",
   "execution_count": 10,
   "id": "8a19bc68",
   "metadata": {},
   "outputs": [
    {
     "name": "stdout",
     "output_type": "stream",
     "text": [
      "Berapakah tinggi anda dalam cm? 170\n",
      "Tinggi badan anda adalah 170 cm\n"
     ]
    }
   ],
   "source": [
    "tinggi_badan_035 = input('Berapakah tinggi anda dalam cm? ')\n",
    "print(\"Tinggi badan anda adalah \" + tinggi_badan_035 + \" cm\")"
   ]
  },
  {
   "cell_type": "markdown",
   "id": "ae6f65a7",
   "metadata": {},
   "source": [
    "# 5.3 Tipe Data pada Python"
   ]
  },
  {
   "cell_type": "code",
   "execution_count": 11,
   "id": "6293d021",
   "metadata": {},
   "outputs": [
    {
     "name": "stdout",
     "output_type": "stream",
     "text": [
      "Berapakah jumlah uang di dompet anda? 50000\n",
      "Berapakah jumlah uang anda di bank? 100000\n",
      "Total uang anda adalah Rp 50000100000\n"
     ]
    }
   ],
   "source": [
    "uang_di_dompet_035 = input(\"Berapakah jumlah uang di dompet anda? \")\n",
    "uang_di_bank_035 = input(\"Berapakah jumlah uang anda di bank? \")\n",
    "print(\"Total uang anda adalah Rp \" + uang_di_dompet_035 + uang_di_bank_035)"
   ]
  },
  {
   "cell_type": "code",
   "execution_count": 12,
   "id": "a6f8dbc2",
   "metadata": {},
   "outputs": [
    {
     "name": "stdout",
     "output_type": "stream",
     "text": [
      "Berapakah jumlah uang di dompet anda? 50000\n",
      "Berapakah jumlah uang anda di bank? 100000\n",
      "Total uang anda adalah Rp 150000\n"
     ]
    }
   ],
   "source": [
    "uang_di_dompet_035 = input(\"Berapakah jumlah uang di dompet anda? \")\n",
    "uang_di_bank_035 = input(\"Berapakah jumlah uang anda di bank? \")\n",
    "total_uang_035 = int(uang_di_dompet_035) + int(uang_di_bank_035)\n",
    "print(\"Total uang anda adalah Rp \" + str(total_uang_035))"
   ]
  },
  {
   "cell_type": "code",
   "execution_count": 13,
   "id": "ab0f47f6",
   "metadata": {},
   "outputs": [
    {
     "data": {
      "text/plain": [
       "str"
      ]
     },
     "execution_count": 13,
     "metadata": {},
     "output_type": "execute_result"
    }
   ],
   "source": [
    "type(uang_di_dompet_035)"
   ]
  },
  {
   "cell_type": "code",
   "execution_count": 14,
   "id": "795fb536",
   "metadata": {},
   "outputs": [
    {
     "data": {
      "text/plain": [
       "int"
      ]
     },
     "execution_count": 14,
     "metadata": {},
     "output_type": "execute_result"
    }
   ],
   "source": [
    "type(total_uang_035)"
   ]
  },
  {
   "cell_type": "code",
   "execution_count": 15,
   "id": "edbf5ac0",
   "metadata": {},
   "outputs": [
    {
     "name": "stdout",
     "output_type": "stream",
     "text": [
      "Masukan bilangan pertama: 1\n",
      "Masukan bilangan kedua: 2\n",
      "Jumlah kedua bilangan adalah 3.0\n"
     ]
    }
   ],
   "source": [
    "bilangan_satu_035 = input(\"Masukan bilangan pertama: \")\n",
    "bilangan_kedua_035 = input(\"Masukan bilangan kedua: \")\n",
    "jumlah_035 = float(bilangan_satu_035) + float(bilangan_kedua_035)\n",
    "print(\"Jumlah kedua bilangan adalah \" + str(jumlah_035))"
   ]
  },
  {
   "cell_type": "markdown",
   "id": "6f770921",
   "metadata": {},
   "source": [
    "# 5.4 Formatted String"
   ]
  },
  {
   "cell_type": "code",
   "execution_count": 16,
   "id": "94ccdc38",
   "metadata": {},
   "outputs": [
    {
     "name": "stdout",
     "output_type": "stream",
     "text": [
      "Vladimir adalah seorang guru di SD Pertiwi.\n"
     ]
    }
   ],
   "source": [
    "nama_035 = \"Vladimir\"\n",
    "pekerjaan_035 = 'guru'\n",
    "institusi_035 = 'SD Pertiwi'\n",
    "print(nama_035 + ' adalah seorang ' + pekerjaan_035 + ' di ' + institusi_035 + '.')"
   ]
  },
  {
   "cell_type": "code",
   "execution_count": 17,
   "id": "905c4619",
   "metadata": {},
   "outputs": [
    {
     "name": "stdout",
     "output_type": "stream",
     "text": [
      "Vladimir adalah seorang guru di SD Pertiwi.\n"
     ]
    }
   ],
   "source": [
    "print(f'{nama_035} adalah seorang {pekerjaan_035} di {institusi_035}.')"
   ]
  },
  {
   "cell_type": "code",
   "execution_count": 18,
   "id": "c22c9bc2",
   "metadata": {},
   "outputs": [
    {
     "name": "stdout",
     "output_type": "stream",
     "text": [
      "Vladimir adalah seorang guru di SD Pertiwi.\n"
     ]
    }
   ],
   "source": [
    "print(f\"{nama_035} adalah seorang {pekerjaan_035} di {institusi_035}.\")"
   ]
  },
  {
   "cell_type": "markdown",
   "id": "d64c2052",
   "metadata": {},
   "source": [
    "# 5.5 Strings Index"
   ]
  },
  {
   "cell_type": "code",
   "execution_count": 19,
   "id": "ca1c5a46",
   "metadata": {},
   "outputs": [],
   "source": [
    "kelas_035 ='ini kelas algoritma'"
   ]
  },
  {
   "cell_type": "code",
   "execution_count": 20,
   "id": "06272c82",
   "metadata": {},
   "outputs": [
    {
     "name": "stdout",
     "output_type": "stream",
     "text": [
      "ini\n"
     ]
    }
   ],
   "source": [
    "print(kelas_035[0:3])"
   ]
  },
  {
   "cell_type": "code",
   "execution_count": 21,
   "id": "4e55caf0",
   "metadata": {},
   "outputs": [
    {
     "name": "stdout",
     "output_type": "stream",
     "text": [
      "ini kelas algoritm\n"
     ]
    }
   ],
   "source": [
    "print(kelas_035[0:-1])"
   ]
  },
  {
   "cell_type": "code",
   "execution_count": 22,
   "id": "a12fa82f",
   "metadata": {},
   "outputs": [
    {
     "name": "stdout",
     "output_type": "stream",
     "text": [
      "elas algoritm\n"
     ]
    }
   ],
   "source": [
    "print(kelas_035[5:-1])"
   ]
  },
  {
   "cell_type": "code",
   "execution_count": 23,
   "id": "872d0926",
   "metadata": {},
   "outputs": [
    {
     "name": "stdout",
     "output_type": "stream",
     "text": [
      "ieslrm\n"
     ]
    }
   ],
   "source": [
    "print(kelas_035[2:-1:3])"
   ]
  },
  {
   "cell_type": "code",
   "execution_count": 24,
   "id": "cd6d38cd",
   "metadata": {},
   "outputs": [
    {
     "name": "stdout",
     "output_type": "stream",
     "text": [
      "ini kelas algori\n"
     ]
    }
   ],
   "source": [
    "print(kelas_035[:-3])"
   ]
  },
  {
   "cell_type": "code",
   "execution_count": 25,
   "id": "965994ee",
   "metadata": {},
   "outputs": [
    {
     "name": "stdout",
     "output_type": "stream",
     "text": [
      "ni kelas algoritma\n"
     ]
    }
   ],
   "source": [
    "print(kelas_035[1:])"
   ]
  },
  {
   "cell_type": "code",
   "execution_count": 26,
   "id": "e44a0610",
   "metadata": {},
   "outputs": [
    {
     "name": "stdout",
     "output_type": "stream",
     "text": [
      "ini kelas algoritma\n"
     ]
    }
   ],
   "source": [
    "print(kelas_035[:])"
   ]
  },
  {
   "cell_type": "markdown",
   "id": "4e0eda78",
   "metadata": {},
   "source": [
    "# 5.6 String Methods"
   ]
  },
  {
   "cell_type": "code",
   "execution_count": 27,
   "id": "20e38194",
   "metadata": {},
   "outputs": [],
   "source": [
    "judul_035 = 'Bali Surga Dunia'"
   ]
  },
  {
   "cell_type": "code",
   "execution_count": 28,
   "id": "8f87e04e",
   "metadata": {},
   "outputs": [
    {
     "name": "stdout",
     "output_type": "stream",
     "text": [
      "16\n"
     ]
    }
   ],
   "source": [
    "print(len(judul_035))"
   ]
  },
  {
   "cell_type": "code",
   "execution_count": 29,
   "id": "8fd7c12a",
   "metadata": {},
   "outputs": [
    {
     "data": {
      "text/plain": [
       "'BALI SURGA DUNIA'"
      ]
     },
     "execution_count": 29,
     "metadata": {},
     "output_type": "execute_result"
    }
   ],
   "source": [
    "judul_035.upper()"
   ]
  },
  {
   "cell_type": "code",
   "execution_count": 30,
   "id": "b0c768e9",
   "metadata": {},
   "outputs": [
    {
     "data": {
      "text/plain": [
       "'bali surga dunia'"
      ]
     },
     "execution_count": 30,
     "metadata": {},
     "output_type": "execute_result"
    }
   ],
   "source": [
    "judul_035.lower()"
   ]
  },
  {
   "cell_type": "code",
   "execution_count": 31,
   "id": "742a966d",
   "metadata": {},
   "outputs": [
    {
     "data": {
      "text/plain": [
       "5"
      ]
     },
     "execution_count": 31,
     "metadata": {},
     "output_type": "execute_result"
    }
   ],
   "source": [
    "judul_035.find('Surga')"
   ]
  },
  {
   "cell_type": "code",
   "execution_count": 32,
   "id": "cf93c608",
   "metadata": {},
   "outputs": [
    {
     "data": {
      "text/plain": [
       "-1"
      ]
     },
     "execution_count": 32,
     "metadata": {},
     "output_type": "execute_result"
    }
   ],
   "source": [
    "judul_035.find('bali')"
   ]
  },
  {
   "cell_type": "code",
   "execution_count": 33,
   "id": "564ecd95",
   "metadata": {},
   "outputs": [
    {
     "data": {
      "text/plain": [
       "'Indonesia Surga Dunia'"
      ]
     },
     "execution_count": 33,
     "metadata": {},
     "output_type": "execute_result"
    }
   ],
   "source": [
    "judul_035.replace('Bali','Indonesia')"
   ]
  },
  {
   "cell_type": "code",
   "execution_count": 34,
   "id": "ff91ce04",
   "metadata": {},
   "outputs": [
    {
     "data": {
      "text/plain": [
       "'Bali Surga Dunia'"
      ]
     },
     "execution_count": 34,
     "metadata": {},
     "output_type": "execute_result"
    }
   ],
   "source": [
    "judul_035.replace('bali','Indonesia')"
   ]
  },
  {
   "cell_type": "code",
   "execution_count": 35,
   "id": "890021c9",
   "metadata": {},
   "outputs": [
    {
     "name": "stdout",
     "output_type": "stream",
     "text": [
      "True\n"
     ]
    }
   ],
   "source": [
    "print('Bali' in judul_035)"
   ]
  },
  {
   "cell_type": "code",
   "execution_count": 36,
   "id": "2a070c32",
   "metadata": {},
   "outputs": [
    {
     "name": "stdout",
     "output_type": "stream",
     "text": [
      "False\n"
     ]
    }
   ],
   "source": [
    "print('bali' in judul_035)"
   ]
  },
  {
   "cell_type": "markdown",
   "id": "64a36393",
   "metadata": {},
   "source": [
    "# 5.7 Operasi Matematika di python"
   ]
  },
  {
   "cell_type": "code",
   "execution_count": 37,
   "id": "518131af",
   "metadata": {},
   "outputs": [
    {
     "name": "stdout",
     "output_type": "stream",
     "text": [
      "5\n",
      "-1\n",
      "6\n",
      "2.3333333333333335\n",
      "2\n",
      "1\n",
      "8\n",
      "4\n",
      "2\n",
      "6\n"
     ]
    }
   ],
   "source": [
    "print(2+3)\n",
    "print(2-3)\n",
    "print(2*3)\n",
    "print(7/3)\n",
    "print(7//3)\n",
    "print(7%3)\n",
    "print(2**3)\n",
    "x=3\n",
    "x+=1\n",
    "print(x)\n",
    "x-=2\n",
    "print(x)\n",
    "x*=3\n",
    "print(x)"
   ]
  },
  {
   "cell_type": "code",
   "execution_count": 38,
   "id": "8b85ba0b",
   "metadata": {},
   "outputs": [
    {
     "name": "stdout",
     "output_type": "stream",
     "text": [
      "5\n",
      "1\n",
      "8\n",
      "1.75\n",
      "1\n",
      "3\n",
      "32\n",
      "5\n",
      "3\n",
      "9\n"
     ]
    }
   ],
   "source": [
    "print(3+2)\n",
    "print(3-2)\n",
    "print(2*4)\n",
    "print(7/4)\n",
    "print(7//4)\n",
    "print(8%5)\n",
    "print(2**5)\n",
    "x=4\n",
    "x+=1\n",
    "print(x)\n",
    "x-=2\n",
    "print(x)\n",
    "x*=3\n",
    "print(x)"
   ]
  },
  {
   "cell_type": "code",
   "execution_count": 39,
   "id": "d31fb1b3",
   "metadata": {},
   "outputs": [
    {
     "name": "stdout",
     "output_type": "stream",
     "text": [
      "12\n",
      "2\n",
      "35\n",
      "1.4\n",
      "0\n",
      "2\n",
      "78125\n",
      "5\n",
      "3\n",
      "9\n"
     ]
    }
   ],
   "source": [
    "print(5+7)\n",
    "print(7-5)\n",
    "print(5*7)\n",
    "print(7/5)\n",
    "print(5//7)\n",
    "print(7%5)\n",
    "print(5**7)\n",
    "x=4\n",
    "x+=1\n",
    "print(x)\n",
    "x-=2\n",
    "print(x)\n",
    "x*=3\n",
    "print(x)"
   ]
  },
  {
   "cell_type": "markdown",
   "id": "fab02897",
   "metadata": {},
   "source": [
    "# 5.8 Operator Perbandingan di Python"
   ]
  },
  {
   "cell_type": "code",
   "execution_count": 40,
   "id": "97de2564",
   "metadata": {},
   "outputs": [
    {
     "name": "stdout",
     "output_type": "stream",
     "text": [
      "True\n",
      "True\n",
      "True\n",
      "True\n",
      "True\n",
      "True\n"
     ]
    }
   ],
   "source": [
    "x = 3>2\n",
    "print(x)\n",
    "x = 2<3\n",
    "print(x)\n",
    "x = 3 >= 2\n",
    "print(x)\n",
    "x = 2 <= 3\n",
    "print(x)\n",
    "x = 3 == 3\n",
    "print(x)\n",
    "x = 3 != 4\n",
    "print(x)"
   ]
  },
  {
   "cell_type": "code",
   "execution_count": 41,
   "id": "9f958663",
   "metadata": {},
   "outputs": [
    {
     "name": "stdout",
     "output_type": "stream",
     "text": [
      "False\n",
      "False\n",
      "False\n",
      "False\n",
      "False\n",
      "False\n"
     ]
    }
   ],
   "source": [
    "x = 2>3\n",
    "print(x)\n",
    "x = 3<2\n",
    "print(x)\n",
    "x = 2 >= 3\n",
    "print(x)\n",
    "x = 3 <= 2\n",
    "print(x)\n",
    "x = 3 == 4\n",
    "print(x)\n",
    "x = 3 != 3\n",
    "print(x)"
   ]
  },
  {
   "cell_type": "code",
   "execution_count": 42,
   "id": "44ac57aa",
   "metadata": {},
   "outputs": [
    {
     "name": "stdout",
     "output_type": "stream",
     "text": [
      "False\n",
      "True\n",
      "True\n",
      "False\n",
      "True\n",
      "True\n"
     ]
    }
   ],
   "source": [
    "z = 5>9\n",
    "print(z)\n",
    "z = 5<9\n",
    "print(z)\n",
    "z = 9 >= 5\n",
    "print(z)\n",
    "z = 9 <= 5\n",
    "print(z)\n",
    "z = 9 == 9\n",
    "print(z)\n",
    "z = 9 != 5\n",
    "print(z)"
   ]
  },
  {
   "cell_type": "markdown",
   "id": "1c2db9aa",
   "metadata": {},
   "source": [
    "# 5.9 Operator Logika di Python"
   ]
  },
  {
   "cell_type": "code",
   "execution_count": 43,
   "id": "c4c2c0ec",
   "metadata": {},
   "outputs": [
    {
     "name": "stdout",
     "output_type": "stream",
     "text": [
      "True\n"
     ]
    }
   ],
   "source": [
    "buah_manggis_035 = 10\n",
    "buah_mangga_035 = 15\n",
    "print(buah_manggis_035 > 8 and buah_mangga_035 < 20)"
   ]
  },
  {
   "cell_type": "code",
   "execution_count": 44,
   "id": "0c92a8b1",
   "metadata": {},
   "outputs": [
    {
     "name": "stdout",
     "output_type": "stream",
     "text": [
      "True\n"
     ]
    }
   ],
   "source": [
    "print(buah_manggis_035 < 8 or buah_mangga_035 < 20)"
   ]
  },
  {
   "cell_type": "code",
   "execution_count": 45,
   "id": "fcc5f85b",
   "metadata": {},
   "outputs": [
    {
     "name": "stdout",
     "output_type": "stream",
     "text": [
      "False\n"
     ]
    }
   ],
   "source": [
    "print(buah_manggis_035 < 8 or buah_mangga_035 > 20)"
   ]
  },
  {
   "cell_type": "code",
   "execution_count": 46,
   "id": "e37b9df0",
   "metadata": {},
   "outputs": [
    {
     "name": "stdout",
     "output_type": "stream",
     "text": [
      "True\n"
     ]
    }
   ],
   "source": [
    "print(not (buah_manggis_035 < 8 or buah_mangga_035 > 20))"
   ]
  },
  {
   "cell_type": "code",
   "execution_count": 52,
   "id": "1cbedf06",
   "metadata": {},
   "outputs": [
    {
     "name": "stdout",
     "output_type": "stream",
     "text": [
      "True\n",
      "True\n"
     ]
    }
   ],
   "source": [
    "buah_durian = 5\n",
    "buah_semangka = 20\n",
    "print(buah_durian > 4 and buah_semangka < 30)\n",
    "print(buah_durian < 4 or buah_semangka < 25)"
   ]
  },
  {
   "cell_type": "markdown",
   "id": "300eda91",
   "metadata": {},
   "source": [
    "# 5.10 Operator if di python"
   ]
  },
  {
   "cell_type": "code",
   "execution_count": 53,
   "id": "4ca03e3f",
   "metadata": {},
   "outputs": [
    {
     "name": "stdout",
     "output_type": "stream",
     "text": [
      "Nilai anda adalah 100\n",
      "Anda mendapat nilai A\n",
      "Bagus sekali, selamat!\n"
     ]
    }
   ],
   "source": [
    "nilai = float(input(\"Nilai anda adalah \"))\n",
    "if nilai >= 80:\n",
    "    print(\"Anda mendapat nilai A\")\n",
    "    print(\"Bagus sekali, selamat!\")\n",
    "if nilai < 80 and nilai >= 70:\n",
    "    print(\"Anda mendapat nilai B\")\n",
    "    print(\"Tingkatkan prestasimu!\")\n",
    "if nilai >= 60 and nilai < 70:\n",
    "    print(\"Anda mendapat nilai C\")\n",
    "    print(\"Lain kali musti lebih baik\")\n",
    "if nilai >= 50 and nilai < 60:\n",
    "    print(\"Anda mendapat nilai D\")\n",
    "    print(\"Ulangi lagi tahun depan\")\n",
    "if nilai < 50:\n",
    "    print(\"Anda mendapat nilai E\")\n",
    "    print(\"Sampai jumpa tahun depan\")"
   ]
  },
  {
   "cell_type": "code",
   "execution_count": 54,
   "id": "255064c1",
   "metadata": {},
   "outputs": [
    {
     "name": "stdout",
     "output_type": "stream",
     "text": [
      "Nilai anda adalah 88\n",
      "Anda mendapat nilai A\n",
      "Bagus sekali, selamat!\n"
     ]
    }
   ],
   "source": [
    "nilai = float(input(\"Nilai anda adalah \"))\n",
    "if nilai >= 80:\n",
    "    print(\"Anda mendapat nilai A\")\n",
    "    print(\"Bagus sekali, selamat!\")\n",
    "elif nilai >= 70:\n",
    "    print(\"Anda mendapat nilai B\")\n",
    "    print(\"Tingkatkan prestasimu!\")\n",
    "elif nilai >= 60:\n",
    "    print(\"Anda mendapat nilai C\")\n",
    "    print(\"Lain kali musti lebih baik\")\n",
    "elif nilai >= 50:\n",
    "    print(\"Anda mendapat nilai D\")\n",
    "    print(\"Ulangi lagi tahun depan\")\n",
    "else:\n",
    "    print(\"Anda mendapat nilai E\")\n",
    "    print(\"Sampai jumpa tahun depan\")"
   ]
  },
  {
   "cell_type": "markdown",
   "id": "06a88dca",
   "metadata": {},
   "source": [
    "Latihan: Buatlah program yang merubah tinggi badan seseorang dari cm\n",
    "ke inci atau sebaliknya dari inci ke cm."
   ]
  },
  {
   "cell_type": "code",
   "execution_count": 91,
   "id": "9edcdceb",
   "metadata": {},
   "outputs": [
    {
     "name": "stdout",
     "output_type": "stream",
     "text": [
      "Tinggimu berapa, Eza? 174\n",
      "Tingginya dalam cm atau inci? cm\n",
      "Tinggi anda adalah 68.556 inci\n"
     ]
    }
   ],
   "source": [
    "tinggi = float(input(\"Tinggimu berapa, Eza? \"))\n",
    "cm_atau_inci = input(\"Tingginya dalam cm atau inci? \")\n",
    "if cm_atau_inci.upper() == 'CM':\n",
    "    tinggi = tinggi*0.394\n",
    "    print(\"Tinggi anda adalah \" + str(tinggi) + \" inci\")\n",
    "elif cm_atau_inci.upper() == \"INCI\" :\n",
    "    tinggi = tinggi/0.394\n",
    "    print(f\"Tinggi anda adalah {tinggi} cm\")"
   ]
  },
  {
   "cell_type": "markdown",
   "id": "12e96118",
   "metadata": {},
   "source": [
    "# 5.11 While loop"
   ]
  },
  {
   "cell_type": "code",
   "execution_count": 55,
   "id": "729490c3",
   "metadata": {},
   "outputs": [
    {
     "name": "stdout",
     "output_type": "stream",
     "text": [
      "Angka 0 masih dibawah 5\n",
      "Angka 1 masih dibawah 5\n",
      "Angka 2 masih dibawah 5\n",
      "Angka 3 masih dibawah 5\n",
      "Angka 4 masih dibawah 5\n"
     ]
    }
   ],
   "source": [
    "a = 0\n",
    "while a < 5:\n",
    "    print(\"Angka \" + str(a)+\" masih dibawah 5\")\n",
    "    a += 1"
   ]
  },
  {
   "cell_type": "code",
   "execution_count": 56,
   "id": "c55eb71c",
   "metadata": {},
   "outputs": [
    {
     "name": "stdout",
     "output_type": "stream",
     "text": [
      "\n",
      "*\n",
      "**\n",
      "***\n",
      "****\n"
     ]
    }
   ],
   "source": [
    "a = 0\n",
    "while a < 5:\n",
    "    print(a * '*')\n",
    "    a += 1"
   ]
  },
  {
   "cell_type": "code",
   "execution_count": 61,
   "id": "cd487f52",
   "metadata": {},
   "outputs": [
    {
     "name": "stdout",
     "output_type": "stream",
     "text": [
      "\n",
      "* \n",
      "* * \n",
      "* * * \n",
      "* * * * \n"
     ]
    }
   ],
   "source": [
    "a = 0\n",
    "while a < 5:\n",
    "    print(a * '* ')\n",
    "    a += 1"
   ]
  },
  {
   "cell_type": "markdown",
   "id": "08619499",
   "metadata": {},
   "source": [
    "# 5.12 list di python"
   ]
  },
  {
   "cell_type": "code",
   "execution_count": 62,
   "id": "8ff804f9",
   "metadata": {},
   "outputs": [
    {
     "name": "stdout",
     "output_type": "stream",
     "text": [
      "['mangga', 'pisang', 'rambutan', 'durian']\n"
     ]
    }
   ],
   "source": [
    "buah_035 = ['mangga', 'pisang', 'rambutan', 'durian']\n",
    "print(buah_035)"
   ]
  },
  {
   "cell_type": "code",
   "execution_count": 63,
   "id": "aeec6de6",
   "metadata": {},
   "outputs": [
    {
     "name": "stdout",
     "output_type": "stream",
     "text": [
      "mangga\n"
     ]
    }
   ],
   "source": [
    "print(buah_035[0])"
   ]
  },
  {
   "cell_type": "code",
   "execution_count": 64,
   "id": "2c8b12f8",
   "metadata": {},
   "outputs": [
    {
     "name": "stdout",
     "output_type": "stream",
     "text": [
      "rambutan\n"
     ]
    }
   ],
   "source": [
    "print(buah_035[2])"
   ]
  },
  {
   "cell_type": "code",
   "execution_count": 65,
   "id": "a00cdca5",
   "metadata": {},
   "outputs": [
    {
     "name": "stdout",
     "output_type": "stream",
     "text": [
      "durian\n"
     ]
    }
   ],
   "source": [
    "print(buah_035[-1])"
   ]
  },
  {
   "cell_type": "code",
   "execution_count": 66,
   "id": "79403488",
   "metadata": {},
   "outputs": [
    {
     "name": "stdout",
     "output_type": "stream",
     "text": [
      "rambutan\n"
     ]
    }
   ],
   "source": [
    "print(buah_035[-2])"
   ]
  },
  {
   "cell_type": "code",
   "execution_count": 67,
   "id": "82950a2a",
   "metadata": {},
   "outputs": [
    {
     "name": "stdout",
     "output_type": "stream",
     "text": [
      "['salak', 'pisang', 'rambutan', 'durian']\n"
     ]
    }
   ],
   "source": [
    "buah_035[0] = 'salak'\n",
    "print(buah_035)"
   ]
  },
  {
   "cell_type": "code",
   "execution_count": 68,
   "id": "52afc52b",
   "metadata": {},
   "outputs": [
    {
     "name": "stdout",
     "output_type": "stream",
     "text": [
      "['salak', 'pisang', 'rambutan']\n"
     ]
    }
   ],
   "source": [
    "print(buah_035[0:3])"
   ]
  },
  {
   "cell_type": "code",
   "execution_count": 69,
   "id": "4b4d534a",
   "metadata": {},
   "outputs": [
    {
     "name": "stdout",
     "output_type": "stream",
     "text": [
      "['salak', 'pisang', 'rambutan', 'durian']\n"
     ]
    }
   ],
   "source": [
    "# tidak merubah list\n",
    "print(buah_035)"
   ]
  },
  {
   "cell_type": "code",
   "execution_count": 70,
   "id": "d1da79cf",
   "metadata": {},
   "outputs": [
    {
     "name": "stdout",
     "output_type": "stream",
     "text": [
      "['meja', 'piano', 'ranting', 'dadu']\n"
     ]
    }
   ],
   "source": [
    "benda = ['meja', 'piano', 'ranting', 'dadu', 'dasi']\n",
    "print(benda)"
   ]
  },
  {
   "cell_type": "code",
   "execution_count": 71,
   "id": "d1a59ded",
   "metadata": {},
   "outputs": [
    {
     "name": "stdout",
     "output_type": "stream",
     "text": [
      "piano\n"
     ]
    }
   ],
   "source": [
    "print(benda[1])"
   ]
  },
  {
   "cell_type": "markdown",
   "id": "50cac666",
   "metadata": {},
   "source": [
    "# 5.13 Metoda list"
   ]
  },
  {
   "cell_type": "code",
   "execution_count": 72,
   "id": "a4c65eb3",
   "metadata": {},
   "outputs": [
    {
     "name": "stdout",
     "output_type": "stream",
     "text": [
      "['Wayan', 'Tari', 'Gautama', 'Jaya']\n"
     ]
    }
   ],
   "source": [
    "nama = ['Wayan','Tari','Gautama']\n",
    "nama.append('Jaya')\n",
    "print(nama)"
   ]
  },
  {
   "cell_type": "code",
   "execution_count": 73,
   "id": "6911c8ca",
   "metadata": {},
   "outputs": [
    {
     "name": "stdout",
     "output_type": "stream",
     "text": [
      "['Lanang', 'Wayan', 'Tari', 'Gautama', 'Jaya']\n"
     ]
    }
   ],
   "source": [
    "nama.insert(0,'Lanang')\n",
    "print(nama)"
   ]
  },
  {
   "cell_type": "code",
   "execution_count": 74,
   "id": "c0045c08",
   "metadata": {},
   "outputs": [
    {
     "name": "stdout",
     "output_type": "stream",
     "text": [
      "['Lanang', 'Tari', 'Gautama', 'Jaya']\n"
     ]
    }
   ],
   "source": [
    "nama.remove('Wayan')\n",
    "print(nama)"
   ]
  },
  {
   "cell_type": "code",
   "execution_count": 75,
   "id": "72d1fa6f",
   "metadata": {},
   "outputs": [
    {
     "name": "stdout",
     "output_type": "stream",
     "text": [
      "False\n"
     ]
    }
   ],
   "source": [
    "print('Wayan' in nama)"
   ]
  },
  {
   "cell_type": "code",
   "execution_count": 76,
   "id": "9c19af05",
   "metadata": {},
   "outputs": [
    {
     "name": "stdout",
     "output_type": "stream",
     "text": [
      "True\n"
     ]
    }
   ],
   "source": [
    "print('Jaya' in nama)"
   ]
  },
  {
   "cell_type": "code",
   "execution_count": 77,
   "id": "b6cc65e1",
   "metadata": {},
   "outputs": [
    {
     "name": "stdout",
     "output_type": "stream",
     "text": [
      "4\n"
     ]
    }
   ],
   "source": [
    "print(len(nama))"
   ]
  },
  {
   "cell_type": "markdown",
   "id": "9e991d16",
   "metadata": {},
   "source": [
    "# 5.14 For loop"
   ]
  },
  {
   "cell_type": "code",
   "execution_count": 83,
   "id": "a45fedfb",
   "metadata": {},
   "outputs": [
    {
     "name": "stdout",
     "output_type": "stream",
     "text": [
      "Tas\n",
      "Lemari\n",
      "Baju\n",
      "Jaket\n",
      "Kabel\n",
      "Kipas\n"
     ]
    }
   ],
   "source": [
    "benda = ['Tas','Lemari','Baju','Jaket','Kabel','Kipas']\n",
    "for jenis in benda:\n",
    "    print(jenis)"
   ]
  },
  {
   "cell_type": "code",
   "execution_count": 84,
   "id": "093434ec",
   "metadata": {},
   "outputs": [
    {
     "name": "stdout",
     "output_type": "stream",
     "text": [
      "Tas\n",
      "Lemari\n",
      "Baju\n",
      "Jaket\n",
      "Kabel\n",
      "Kipas\n"
     ]
    }
   ],
   "source": [
    "i = 0\n",
    "while i < len(benda):\n",
    "    print(benda[i])\n",
    "    i+=1\n"
   ]
  },
  {
   "cell_type": "markdown",
   "id": "ab176e0d",
   "metadata": {},
   "source": [
    "# 5.15 Fungsi range"
   ]
  },
  {
   "cell_type": "code",
   "execution_count": 85,
   "id": "0e6391ca",
   "metadata": {},
   "outputs": [
    {
     "name": "stdout",
     "output_type": "stream",
     "text": [
      "range(0, 8)\n"
     ]
    }
   ],
   "source": [
    "angka = range(8)\n",
    "print(angka)"
   ]
  },
  {
   "cell_type": "code",
   "execution_count": 86,
   "id": "9eaa7c4c",
   "metadata": {},
   "outputs": [
    {
     "name": "stdout",
     "output_type": "stream",
     "text": [
      "0\n",
      "1\n",
      "2\n",
      "3\n",
      "4\n",
      "5\n",
      "6\n",
      "7\n"
     ]
    }
   ],
   "source": [
    "for isi in angka:\n",
    "    print(isi)"
   ]
  },
  {
   "cell_type": "code",
   "execution_count": 87,
   "id": "48f18fb2",
   "metadata": {},
   "outputs": [
    {
     "name": "stdout",
     "output_type": "stream",
     "text": [
      "6\n",
      "7\n",
      "8\n",
      "9\n",
      "10\n",
      "11\n"
     ]
    }
   ],
   "source": [
    "for isi in range(6,12):\n",
    "    print(isi)"
   ]
  },
  {
   "cell_type": "code",
   "execution_count": 89,
   "id": "9142135b",
   "metadata": {},
   "outputs": [
    {
     "name": "stdout",
     "output_type": "stream",
     "text": [
      "1\n",
      "4\n",
      "7\n",
      "10\n"
     ]
    }
   ],
   "source": [
    "for isi in range(1,13,3):\n",
    "    print(isi)"
   ]
  },
  {
   "cell_type": "markdown",
   "id": "7dbe72ad",
   "metadata": {},
   "source": [
    "Latihan 5.15\n",
    "contoh program untuk mencari nilai terbesar & nilai unik dalam suatu list"
   ]
  },
  {
   "cell_type": "code",
   "execution_count": 90,
   "id": "24e5a937",
   "metadata": {},
   "outputs": [
    {
     "name": "stdout",
     "output_type": "stream",
     "text": [
      "6\n"
     ]
    }
   ],
   "source": [
    "data = [1,2,3,4,5,6,5,4,3,2,1]\n",
    "terbesar = data[0]\n",
    "for i in range(len(data)):\n",
    "    if data[i] > terbesar:\n",
    "        terbesar = data[i]\n",
    "print(terbesar)"
   ]
  },
  {
   "cell_type": "code",
   "execution_count": 91,
   "id": "6bb665ec",
   "metadata": {},
   "outputs": [
    {
     "name": "stdout",
     "output_type": "stream",
     "text": [
      "6\n"
     ]
    }
   ],
   "source": [
    "data = [1,2,3,4,5,6,5,4,3,2,1]\n",
    "terbesar = data[0]\n",
    "for angka in data:\n",
    "    if angka > terbesar:\n",
    "        terbesar = angka\n",
    "print(terbesar)"
   ]
  },
  {
   "cell_type": "code",
   "execution_count": 92,
   "id": "ed191c9f",
   "metadata": {},
   "outputs": [
    {
     "name": "stdout",
     "output_type": "stream",
     "text": [
      "[1, 2, 3, 4, 5, 6, 7, 8]\n"
     ]
    }
   ],
   "source": [
    "angka = [1,1,2,3,4,5,6,7,7,8,7,8]\n",
    "angka_unik = []\n",
    "for anggota in angka:\n",
    "    if anggota not in angka_unik:\n",
    "        angka_unik.append(anggota)\n",
    "print(angka_unik)"
   ]
  },
  {
   "cell_type": "markdown",
   "id": "15b7e666",
   "metadata": {},
   "source": [
    "# 5.16 List 2 Dimensi"
   ]
  },
  {
   "cell_type": "code",
   "execution_count": 94,
   "id": "9b646f37",
   "metadata": {},
   "outputs": [
    {
     "name": "stdout",
     "output_type": "stream",
     "text": [
      "[[1, 2, 3, 4, 5], [6, 7, 8, 9], [10, 11, 12, 13, 14], [15, 16, 17, 18]]\n"
     ]
    }
   ],
   "source": [
    "matrik = [\n",
    "    [1,2,3,4,5],\n",
    "    [6,7,8,9],\n",
    "    [10,11,12,13,14],\n",
    "    [15,16,17,18,]\n",
    "]\n",
    "print(matrik)"
   ]
  },
  {
   "cell_type": "code",
   "execution_count": 95,
   "id": "9d7cdb28",
   "metadata": {},
   "outputs": [
    {
     "data": {
      "text/plain": [
       "[10, 11, 12, 13, 14]"
      ]
     },
     "execution_count": 95,
     "metadata": {},
     "output_type": "execute_result"
    }
   ],
   "source": [
    "matrik[2]"
   ]
  },
  {
   "cell_type": "code",
   "execution_count": 96,
   "id": "ae13f058",
   "metadata": {},
   "outputs": [
    {
     "data": {
      "text/plain": [
       "8"
      ]
     },
     "execution_count": 96,
     "metadata": {},
     "output_type": "execute_result"
    }
   ],
   "source": [
    "matrik[1][2]"
   ]
  },
  {
   "cell_type": "code",
   "execution_count": 97,
   "id": "efbd190b",
   "metadata": {},
   "outputs": [
    {
     "name": "stdout",
     "output_type": "stream",
     "text": [
      "100\n"
     ]
    }
   ],
   "source": [
    "matrik[1][2]=100\n",
    "print(matrik[1][2])"
   ]
  },
  {
   "cell_type": "code",
   "execution_count": 98,
   "id": "6726ff7e",
   "metadata": {},
   "outputs": [
    {
     "data": {
      "text/plain": [
       "[[1, 2, 3, 4, 5], [6, 7, 100, 9], [10, 11, 12, 13, 14], [15, 16, 17, 18]]"
      ]
     },
     "execution_count": 98,
     "metadata": {},
     "output_type": "execute_result"
    }
   ],
   "source": [
    "matrik"
   ]
  },
  {
   "cell_type": "code",
   "execution_count": 99,
   "id": "c09bc7bc",
   "metadata": {},
   "outputs": [
    {
     "name": "stdout",
     "output_type": "stream",
     "text": [
      "[1, 2, 3, 4, 5]\n",
      "1\n",
      "2\n",
      "3\n",
      "4\n",
      "5\n",
      "[6, 7, 100, 9]\n",
      "6\n",
      "7\n",
      "100\n",
      "9\n",
      "[10, 11, 12, 13, 14]\n",
      "10\n",
      "11\n",
      "12\n",
      "13\n",
      "14\n",
      "[15, 16, 17, 18]\n",
      "15\n",
      "16\n",
      "17\n",
      "18\n"
     ]
    }
   ],
   "source": [
    "for baris in matrik:\n",
    "    print(baris)\n",
    "    for kolom in baris:\n",
    "        print(kolom)"
   ]
  },
  {
   "cell_type": "markdown",
   "id": "7d9687c5",
   "metadata": {},
   "source": [
    "# 5.17 Tuples"
   ]
  },
  {
   "cell_type": "code",
   "execution_count": 100,
   "id": "949fa4c1",
   "metadata": {},
   "outputs": [],
   "source": [
    "angka = (0,1,1,2,4,5,6)"
   ]
  },
  {
   "cell_type": "code",
   "execution_count": 102,
   "id": "90480fc7",
   "metadata": {},
   "outputs": [
    {
     "name": "stdout",
     "output_type": "stream",
     "text": [
      "6\n"
     ]
    }
   ],
   "source": [
    "print(angka[-1])"
   ]
  },
  {
   "cell_type": "code",
   "execution_count": 105,
   "id": "91c8f8d0",
   "metadata": {},
   "outputs": [
    {
     "name": "stdout",
     "output_type": "stream",
     "text": [
      "(0, 1, 1, 2)\n"
     ]
    }
   ],
   "source": [
    "print(angka[0:4])"
   ]
  },
  {
   "cell_type": "code",
   "execution_count": 106,
   "id": "06558957",
   "metadata": {},
   "outputs": [
    {
     "name": "stdout",
     "output_type": "stream",
     "text": [
      "0\n",
      "1\n",
      "1\n",
      "2\n"
     ]
    }
   ],
   "source": [
    "for isi in angka [0:4]:\n",
    "    print(isi)"
   ]
  },
  {
   "cell_type": "code",
   "execution_count": 107,
   "id": "c202664f",
   "metadata": {},
   "outputs": [
    {
     "data": {
      "text/plain": [
       "2"
      ]
     },
     "execution_count": 107,
     "metadata": {},
     "output_type": "execute_result"
    }
   ],
   "source": [
    "angka.count(1)"
   ]
  },
  {
   "cell_type": "code",
   "execution_count": 110,
   "id": "360a2d22",
   "metadata": {},
   "outputs": [
    {
     "data": {
      "text/plain": [
       "3"
      ]
     },
     "execution_count": 110,
     "metadata": {},
     "output_type": "execute_result"
    }
   ],
   "source": [
    "angka.index(2)"
   ]
  },
  {
   "cell_type": "markdown",
   "id": "558418f9",
   "metadata": {},
   "source": [
    "# 5.18 Dictionaries"
   ]
  },
  {
   "cell_type": "code",
   "execution_count": 113,
   "id": "3b70fd36",
   "metadata": {},
   "outputs": [],
   "source": [
    "data_orang_035 = {\n",
    "    \"nama\" : \"Ketut Dogler\",\n",
    "    \"umur\" : 12,\n",
    "    \"apakah_singel\" : False\n",
    "}"
   ]
  },
  {
   "cell_type": "code",
   "execution_count": 114,
   "id": "afd3e51a",
   "metadata": {},
   "outputs": [
    {
     "name": "stdout",
     "output_type": "stream",
     "text": [
      "Ketut Dogler\n"
     ]
    }
   ],
   "source": [
    "print(data_orang_035['nama'])"
   ]
  },
  {
   "cell_type": "code",
   "execution_count": 115,
   "id": "2ed7df16",
   "metadata": {},
   "outputs": [],
   "source": [
    "angka = {\n",
    "    \"0\" : \"nol\",\n",
    "    \"1\" : \"satu\",\n",
    "    \"2\" : \"dua\",\n",
    "    \"3\" : \"tiga\",\n",
    "    \"4\" : \"empat\",\n",
    "    \"5\" : \"lima\",\n",
    "    \"6\" : \"enam\",\n",
    "    \"7\" : \"tujuh\",\n",
    "    \"8\" : \"delapan\",\n",
    "    \"9\" : \"sembilan\"\n",
    "}"
   ]
  },
  {
   "cell_type": "code",
   "execution_count": 116,
   "id": "d0a708e9",
   "metadata": {},
   "outputs": [
    {
     "name": "stdout",
     "output_type": "stream",
     "text": [
      "Masukkan nomor HP anda 082146696704\n",
      "nol delapan dua satu empat enam enam sembilan enam tujuh nol empat \n"
     ]
    }
   ],
   "source": [
    "nomor_HP = input(\"Masukkan nomor HP anda \")\n",
    "nomor_angka = \"\"\n",
    "for isi in nomor_HP:\n",
    "    nomor_angka += angka.get(isi) + \" \"\n",
    "print(nomor_angka)"
   ]
  },
  {
   "cell_type": "markdown",
   "id": "5add2008",
   "metadata": {},
   "source": [
    "# 5.19 Fungsi dalam Python"
   ]
  },
  {
   "cell_type": "code",
   "execution_count": 121,
   "id": "5e0043f5",
   "metadata": {},
   "outputs": [],
   "source": [
    "def full_nama(first_name,last_name):\n",
    "    print(f\"Nama lengkapnya adalah {first_name} {last_name}\")"
   ]
  },
  {
   "cell_type": "code",
   "execution_count": 122,
   "id": "b736d7ee",
   "metadata": {},
   "outputs": [
    {
     "name": "stdout",
     "output_type": "stream",
     "text": [
      "Nama depan anda adalah eza\n",
      "Nama belakang anda adalah purnama\n",
      "Nama lengkapnya adalah eza purnama\n"
     ]
    }
   ],
   "source": [
    "first_name = input(\"Nama depan anda adalah \")\n",
    "last_name = input(\"Nama belakang anda adalah \")\n",
    "full_nama(first_name,last_name)"
   ]
  },
  {
   "cell_type": "markdown",
   "id": "83f2922b",
   "metadata": {},
   "source": [
    "5.19.1 Tugas Fungsi pada Python"
   ]
  },
  {
   "cell_type": "code",
   "execution_count": 123,
   "id": "312c2038",
   "metadata": {},
   "outputs": [],
   "source": [
    "def waktu_sampai(jarak,kecepatan):\n",
    "    waktu = jarak/kecepatan\n",
    "    return(waktu)"
   ]
  },
  {
   "cell_type": "code",
   "execution_count": 127,
   "id": "3c7f8256",
   "metadata": {},
   "outputs": [],
   "source": [
    "def waktu_tempuh(jarak,kecepatan):\n",
    "    waktu = jarak/kecepatan\n",
    "    return waktu"
   ]
  },
  {
   "cell_type": "code",
   "execution_count": 125,
   "id": "43d89246",
   "metadata": {},
   "outputs": [
    {
     "data": {
      "text/plain": [
       "1.3333333333333333"
      ]
     },
     "execution_count": 125,
     "metadata": {},
     "output_type": "execute_result"
    }
   ],
   "source": [
    "waktu_sampai (80,60)"
   ]
  },
  {
   "cell_type": "code",
   "execution_count": 128,
   "id": "77cd4714",
   "metadata": {},
   "outputs": [
    {
     "data": {
      "text/plain": [
       "1.3333333333333333"
      ]
     },
     "execution_count": 128,
     "metadata": {},
     "output_type": "execute_result"
    }
   ],
   "source": [
    "waktu_tempuh(80,60)"
   ]
  },
  {
   "cell_type": "code",
   "execution_count": 129,
   "id": "0e9467b3",
   "metadata": {},
   "outputs": [
    {
     "name": "stdout",
     "output_type": "stream",
     "text": [
      "1.3333333333333333\n"
     ]
    }
   ],
   "source": [
    "a = waktu_sampai(80,60)\n",
    "print(a)"
   ]
  },
  {
   "cell_type": "code",
   "execution_count": 130,
   "id": "947cf7d9",
   "metadata": {},
   "outputs": [
    {
     "name": "stdout",
     "output_type": "stream",
     "text": [
      "1.3333333333333333\n"
     ]
    }
   ],
   "source": [
    "b = waktu_tempuh(80,60)\n",
    "print(b)"
   ]
  },
  {
   "cell_type": "markdown",
   "id": "2449cf1b",
   "metadata": {},
   "source": [
    "Latihan: Buatlah program yang menggunakan fungsi Python untuk menghitung luas segitiga, lingkaran, persegi dan persegi panjang. Selain itu berikan\n",
    "peringatan bagi bidang lain yang tidak termasuk perhitungan.\n"
   ]
  },
  {
   "cell_type": "code",
   "execution_count": 131,
   "id": "0707e734",
   "metadata": {},
   "outputs": [],
   "source": [
    "import numpy as np"
   ]
  },
  {
   "cell_type": "code",
   "execution_count": 132,
   "id": "368ebddc",
   "metadata": {},
   "outputs": [],
   "source": [
    "def luas_segitiga(alas,tinggi):\n",
    "    luas = (1/2)*alas*tinggi\n",
    "    return luas\n",
    "def luas_lingkaran(jari_jari):\n",
    "    luas = np.pi*(jari_jari**2)\n",
    "    return luas\n",
    "def luas_persegi(sisi):\n",
    "    luas = sisi**2\n",
    "    return luas\n",
    "def luas_persegi_panjang(panjang,lebar):\n",
    "    luas = panjang*lebar\n",
    "    return luas"
   ]
  },
  {
   "cell_type": "code",
   "execution_count": 138,
   "id": "e6f1aec1",
   "metadata": {},
   "outputs": [
    {
     "name": "stdout",
     "output_type": "stream",
     "text": [
      "Tulis jenis bidangnya persegi\n",
      "Berapakah panjang sisinya? 4\n",
      "Luas (jenis_bidang) adalah 16.0\n"
     ]
    }
   ],
   "source": [
    "jenis_bidang = input(\"Tulis jenis bidangnya \")\n",
    "if jenis_bidang.upper() == 'SEGITIGA' :\n",
    "    alas = float(input('Berapakah panjang alasnya? '))\n",
    "    tinggi = float(input('Berapakah tingginya? '))\n",
    "    luas = luas_segitiga(alas,tinggi)\n",
    "    print(f\"Luas (jenis_bidang) adalah {luas}\")\n",
    "elif jenis_bidang.upper() == 'LINGKARAN':\n",
    "    jari_jari = float(input('Berapakah panjang jari-jarinya? '))\n",
    "    luas = luas_lingkaran(jari_jari)\n",
    "    print(f\"Luas (jenis_bidang) adalah {luas}\")\n",
    "elif jenis_bidang.upper() == 'PERSEGI' or (jenis_bidang.upper() == 'BUJUR SANGKAR'): \n",
    "    sisi = float(input('Berapakah panjang sisinya? '))\n",
    "    luas = luas_persegi(sisi)\n",
    "    print(f\"Luas (jenis_bidang) adalah {luas}\")\n",
    "elif jenis_bidang.upper() == 'PERSEGI PANJANG':\n",
    "    panjang = float(input('Berapakah panjangnya? '))\n",
    "    lebar = float(input('Berapakah 1ebarnya? '))\n",
    "    luas = luas_persegi_panjang(panjang,lebar)\n",
    "    print(f\"Luas (jenis_bidang) adalah {luas}\")\n",
    "else:\n",
    "    print(f\"Maaf bidang (jenis_bidang) yang anda masukkan tidak ada.\")\n",
    "    print(\"Pilihan cuma SEGITIGA, LINGKARAN, PERSEGI dan PERSEGI PANJANG.\")\n",
    "    print('Terimakasih')"
   ]
  },
  {
   "cell_type": "markdown",
   "id": "cb8bc540",
   "metadata": {},
   "source": [
    "# 5.20 Numpy"
   ]
  },
  {
   "cell_type": "markdown",
   "id": "08878373",
   "metadata": {},
   "source": [
    "5.20.1 Perintah Dasar pada Numpy"
   ]
  },
  {
   "cell_type": "code",
   "execution_count": 2,
   "id": "0f6c82fa",
   "metadata": {},
   "outputs": [],
   "source": [
    "import numpy as np"
   ]
  },
  {
   "cell_type": "code",
   "execution_count": 3,
   "id": "cea20b92",
   "metadata": {},
   "outputs": [
    {
     "name": "stdout",
     "output_type": "stream",
     "text": [
      "[0 2 4 6 8]\n"
     ]
    }
   ],
   "source": [
    "a = np.array([0,2,4,6,8])\n",
    "print(a)"
   ]
  },
  {
   "cell_type": "code",
   "execution_count": 4,
   "id": "face9dbf",
   "metadata": {},
   "outputs": [
    {
     "name": "stdout",
     "output_type": "stream",
     "text": [
      "[[1 3 5 7]\n",
      " [2 4 6 8]]\n"
     ]
    }
   ],
   "source": [
    "b = np.array([[1,3,5,7],[2,4,6,8]])\n",
    "print(b)"
   ]
  },
  {
   "cell_type": "code",
   "execution_count": 5,
   "id": "948b19f6",
   "metadata": {},
   "outputs": [
    {
     "name": "stdout",
     "output_type": "stream",
     "text": [
      "[[[0 1 2 3]\n",
      "  [4 5 6 7]]\n",
      "\n",
      " [[8 9 8 7]\n",
      "  [6 5 4 3]]\n",
      "\n",
      " [[1 2 3 4]\n",
      "  [5 6 7 8]]]\n"
     ]
    }
   ],
   "source": [
    "e = np.array([[[0,1,2,3],[4,5,6,7]],\n",
    "             [[8,9,8,7],[6,5,4,3]],\n",
    "             [[1,2,3,4],[5,6,7,8]]])\n",
    "print(e)"
   ]
  },
  {
   "cell_type": "code",
   "execution_count": 6,
   "id": "b24c07cd",
   "metadata": {},
   "outputs": [
    {
     "data": {
      "text/plain": [
       "1"
      ]
     },
     "execution_count": 6,
     "metadata": {},
     "output_type": "execute_result"
    }
   ],
   "source": [
    "a.ndim"
   ]
  },
  {
   "cell_type": "code",
   "execution_count": 7,
   "id": "67c58cc6",
   "metadata": {},
   "outputs": [
    {
     "data": {
      "text/plain": [
       "(5,)"
      ]
     },
     "execution_count": 7,
     "metadata": {},
     "output_type": "execute_result"
    }
   ],
   "source": [
    "a.shape"
   ]
  },
  {
   "cell_type": "code",
   "execution_count": 8,
   "id": "bf15d1a2",
   "metadata": {},
   "outputs": [
    {
     "data": {
      "text/plain": [
       "2"
      ]
     },
     "execution_count": 8,
     "metadata": {},
     "output_type": "execute_result"
    }
   ],
   "source": [
    "b.ndim"
   ]
  },
  {
   "cell_type": "code",
   "execution_count": 9,
   "id": "5197eb9c",
   "metadata": {},
   "outputs": [
    {
     "data": {
      "text/plain": [
       "(2, 4)"
      ]
     },
     "execution_count": 9,
     "metadata": {},
     "output_type": "execute_result"
    }
   ],
   "source": [
    "b.shape"
   ]
  },
  {
   "cell_type": "code",
   "execution_count": 10,
   "id": "a801c85c",
   "metadata": {},
   "outputs": [
    {
     "data": {
      "text/plain": [
       "3"
      ]
     },
     "execution_count": 10,
     "metadata": {},
     "output_type": "execute_result"
    }
   ],
   "source": [
    "e.ndim"
   ]
  },
  {
   "cell_type": "code",
   "execution_count": 11,
   "id": "4e68b2b1",
   "metadata": {},
   "outputs": [
    {
     "data": {
      "text/plain": [
       "(3, 2, 4)"
      ]
     },
     "execution_count": 11,
     "metadata": {},
     "output_type": "execute_result"
    }
   ],
   "source": [
    "e.shape"
   ]
  },
  {
   "cell_type": "markdown",
   "id": "70da5e87",
   "metadata": {},
   "source": [
    "5.20.2 Memanggil Anggota, Kolom dan Baris dengan Numpy"
   ]
  },
  {
   "cell_type": "code",
   "execution_count": 12,
   "id": "9be44609",
   "metadata": {},
   "outputs": [
    {
     "name": "stdout",
     "output_type": "stream",
     "text": [
      "[[ 2  4  6  8]\n",
      " [ 1  3  5  7]\n",
      " [ 9 12 15 18]]\n"
     ]
    }
   ],
   "source": [
    "d = np.array([[2,4,6,8],[1,3,5,7],[9,12,15,18]])\n",
    "print(d)"
   ]
  },
  {
   "cell_type": "code",
   "execution_count": 13,
   "id": "03705fa3",
   "metadata": {},
   "outputs": [
    {
     "data": {
      "text/plain": [
       "8"
      ]
     },
     "execution_count": 13,
     "metadata": {},
     "output_type": "execute_result"
    }
   ],
   "source": [
    "d[0,3]"
   ]
  },
  {
   "cell_type": "code",
   "execution_count": 14,
   "id": "e8c65f83",
   "metadata": {},
   "outputs": [
    {
     "data": {
      "text/plain": [
       "array([1, 3, 5, 7])"
      ]
     },
     "execution_count": 14,
     "metadata": {},
     "output_type": "execute_result"
    }
   ],
   "source": [
    "d[1,:]"
   ]
  },
  {
   "cell_type": "code",
   "execution_count": 15,
   "id": "380b75e2",
   "metadata": {},
   "outputs": [
    {
     "data": {
      "text/plain": [
       "array([ 6,  5, 15])"
      ]
     },
     "execution_count": 15,
     "metadata": {},
     "output_type": "execute_result"
    }
   ],
   "source": [
    "d[:,2]"
   ]
  },
  {
   "cell_type": "code",
   "execution_count": 32,
   "id": "935f6a31",
   "metadata": {},
   "outputs": [
    {
     "data": {
      "text/plain": [
       "array([4, 6])"
      ]
     },
     "execution_count": 32,
     "metadata": {},
     "output_type": "execute_result"
    }
   ],
   "source": [
    "d[0,1:3]"
   ]
  },
  {
   "cell_type": "code",
   "execution_count": 17,
   "id": "7be7eb1e",
   "metadata": {},
   "outputs": [
    {
     "data": {
      "text/plain": [
       "array([2, 6])"
      ]
     },
     "execution_count": 17,
     "metadata": {},
     "output_type": "execute_result"
    }
   ],
   "source": [
    "d[0,0:3:2]"
   ]
  },
  {
   "cell_type": "code",
   "execution_count": 19,
   "id": "77c2ddc6",
   "metadata": {},
   "outputs": [
    {
     "name": "stdout",
     "output_type": "stream",
     "text": [
      "[[100   4   6   8]\n",
      " [  1   3   5   7]\n",
      " [  9  12  15  18]]\n"
     ]
    }
   ],
   "source": [
    "d[0,0] = 100\n",
    "print(d)"
   ]
  },
  {
   "cell_type": "markdown",
   "id": "06e9bcf7",
   "metadata": {},
   "source": [
    "5.20.3 Matrix pada Numpy"
   ]
  },
  {
   "cell_type": "code",
   "execution_count": 20,
   "id": "f30cf8a1",
   "metadata": {},
   "outputs": [
    {
     "data": {
      "text/plain": [
       "array([[1., 1., 1.],\n",
       "       [1., 1., 1.]])"
      ]
     },
     "execution_count": 20,
     "metadata": {},
     "output_type": "execute_result"
    }
   ],
   "source": [
    "np.ones((2,3))"
   ]
  },
  {
   "cell_type": "code",
   "execution_count": 21,
   "id": "a152bb5d",
   "metadata": {},
   "outputs": [
    {
     "data": {
      "text/plain": [
       "array([[0., 0.],\n",
       "       [0., 0.],\n",
       "       [0., 0.]])"
      ]
     },
     "execution_count": 21,
     "metadata": {},
     "output_type": "execute_result"
    }
   ],
   "source": [
    "np.zeros((3,2))"
   ]
  },
  {
   "cell_type": "code",
   "execution_count": 22,
   "id": "e0250914",
   "metadata": {},
   "outputs": [
    {
     "data": {
      "text/plain": [
       "array([[1., 0., 0., 0.],\n",
       "       [0., 1., 0., 0.],\n",
       "       [0., 0., 1., 0.],\n",
       "       [0., 0., 0., 1.]])"
      ]
     },
     "execution_count": 22,
     "metadata": {},
     "output_type": "execute_result"
    }
   ],
   "source": [
    "np.identity(4)"
   ]
  },
  {
   "cell_type": "code",
   "execution_count": 23,
   "id": "98f54e4f",
   "metadata": {},
   "outputs": [
    {
     "data": {
      "text/plain": [
       "array([[[1., 1., 1., 1.],\n",
       "        [1., 1., 1., 1.],\n",
       "        [1., 1., 1., 1.]],\n",
       "\n",
       "       [[1., 1., 1., 1.],\n",
       "        [1., 1., 1., 1.],\n",
       "        [1., 1., 1., 1.]]])"
      ]
     },
     "execution_count": 23,
     "metadata": {},
     "output_type": "execute_result"
    }
   ],
   "source": [
    "np.ones((2,3,4))"
   ]
  },
  {
   "cell_type": "code",
   "execution_count": 24,
   "id": "d77fd86b",
   "metadata": {},
   "outputs": [
    {
     "data": {
      "text/plain": [
       "array([[9, 9],\n",
       "       [9, 9],\n",
       "       [9, 9]])"
      ]
     },
     "execution_count": 24,
     "metadata": {},
     "output_type": "execute_result"
    }
   ],
   "source": [
    "np.full((3,2),9)"
   ]
  },
  {
   "cell_type": "code",
   "execution_count": 25,
   "id": "594fd962",
   "metadata": {},
   "outputs": [
    {
     "data": {
      "text/plain": [
       "array([[0.9405589 , 0.76172243, 0.29978542],\n",
       "       [0.6897728 , 0.24294021, 0.39003927],\n",
       "       [0.73463103, 0.82881491, 0.43261235],\n",
       "       [0.4004886 , 0.09698853, 0.03509112]])"
      ]
     },
     "execution_count": 25,
     "metadata": {},
     "output_type": "execute_result"
    }
   ],
   "source": [
    "np.random.rand(4,3)"
   ]
  },
  {
   "cell_type": "code",
   "execution_count": 26,
   "id": "490f55d5",
   "metadata": {},
   "outputs": [
    {
     "data": {
      "text/plain": [
       "array([[2, 1, 1, 3],\n",
       "       [8, 1, 6, 5],\n",
       "       [2, 3, 3, 8]])"
      ]
     },
     "execution_count": 26,
     "metadata": {},
     "output_type": "execute_result"
    }
   ],
   "source": [
    "np.random.randint(1,10,size=(3,4))"
   ]
  },
  {
   "cell_type": "markdown",
   "id": "4ee0331a",
   "metadata": {},
   "source": [
    "Latihan matrik ukuran 10 x 10"
   ]
  },
  {
   "cell_type": "code",
   "execution_count": 27,
   "id": "bd764539",
   "metadata": {},
   "outputs": [
    {
     "name": "stdout",
     "output_type": "stream",
     "text": [
      "[[0. 0. 0. 0. 0. 0. 0. 0. 0. 0.]\n",
      " [0. 0. 0. 0. 0. 0. 0. 0. 0. 0.]\n",
      " [0. 0. 0. 0. 0. 0. 0. 0. 0. 0.]\n",
      " [0. 0. 0. 0. 0. 0. 0. 0. 0. 0.]\n",
      " [0. 0. 0. 0. 0. 0. 0. 0. 0. 0.]\n",
      " [0. 0. 0. 0. 0. 0. 0. 0. 0. 0.]\n",
      " [0. 0. 0. 0. 0. 0. 0. 0. 0. 0.]\n",
      " [0. 0. 0. 0. 0. 0. 0. 0. 0. 0.]\n",
      " [0. 0. 0. 0. 0. 0. 0. 0. 0. 0.]\n",
      " [0. 0. 0. 0. 0. 0. 0. 0. 0. 0.]]\n"
     ]
    }
   ],
   "source": [
    "a = np.zeros((10,10))\n",
    "print(a)"
   ]
  },
  {
   "cell_type": "code",
   "execution_count": 28,
   "id": "996cf8ea",
   "metadata": {},
   "outputs": [
    {
     "name": "stdout",
     "output_type": "stream",
     "text": [
      "[[1. 0. 0. 0. 0. 0. 0. 0. 0. 0.]\n",
      " [0. 1. 0. 0. 0. 0. 0. 0. 0. 0.]\n",
      " [0. 0. 1. 0. 0. 0. 0. 0. 0. 0.]\n",
      " [0. 0. 0. 1. 0. 0. 0. 0. 0. 0.]\n",
      " [0. 0. 0. 0. 1. 0. 0. 0. 0. 0.]\n",
      " [0. 0. 0. 0. 0. 1. 0. 0. 0. 0.]\n",
      " [0. 0. 0. 0. 0. 0. 1. 0. 0. 0.]\n",
      " [0. 0. 0. 0. 0. 0. 0. 1. 0. 0.]\n",
      " [0. 0. 0. 0. 0. 0. 0. 0. 1. 0.]\n",
      " [0. 0. 0. 0. 0. 0. 0. 0. 0. 1.]]\n"
     ]
    }
   ],
   "source": [
    "b = np.identity(10)\n",
    "print(b)"
   ]
  },
  {
   "cell_type": "code",
   "execution_count": 29,
   "id": "5a53e82b",
   "metadata": {},
   "outputs": [
    {
     "name": "stdout",
     "output_type": "stream",
     "text": [
      "[[9. 0. 0. 0. 0. 0. 0. 0. 0. 0.]\n",
      " [0. 9. 0. 0. 0. 0. 0. 0. 0. 0.]\n",
      " [0. 0. 9. 0. 0. 0. 0. 0. 0. 0.]\n",
      " [0. 0. 0. 9. 0. 0. 0. 0. 0. 0.]\n",
      " [0. 0. 0. 0. 9. 0. 0. 0. 0. 0.]\n",
      " [0. 0. 0. 0. 0. 9. 0. 0. 0. 0.]\n",
      " [0. 0. 0. 0. 0. 0. 9. 0. 0. 0.]\n",
      " [0. 0. 0. 0. 0. 0. 0. 9. 0. 0.]\n",
      " [0. 0. 0. 0. 0. 0. 0. 0. 9. 0.]\n",
      " [0. 0. 0. 0. 0. 0. 0. 0. 0. 9.]]\n"
     ]
    }
   ],
   "source": [
    "c = 9*b\n",
    "print(c)"
   ]
  },
  {
   "cell_type": "code",
   "execution_count": 34,
   "id": "2f4bb3e4",
   "metadata": {},
   "outputs": [
    {
     "name": "stdout",
     "output_type": "stream",
     "text": [
      "[[9. 1. 1. 1. 1. 1. 1. 1.]\n",
      " [1. 9. 1. 1. 1. 1. 1. 1.]\n",
      " [1. 1. 9. 1. 1. 1. 1. 1.]\n",
      " [1. 1. 1. 9. 1. 1. 1. 1.]\n",
      " [1. 1. 1. 1. 9. 1. 1. 1.]\n",
      " [1. 1. 1. 1. 1. 9. 1. 1.]\n",
      " [1. 1. 1. 1. 1. 1. 9. 1.]\n",
      " [1. 1. 1. 1. 1. 1. 1. 9.]]\n"
     ]
    }
   ],
   "source": [
    "d = np.ones((8,8))\n",
    "e = np.identity(8)*8\n",
    "f = d+e\n",
    "print(f)"
   ]
  },
  {
   "cell_type": "code",
   "execution_count": 35,
   "id": "84c65402",
   "metadata": {},
   "outputs": [
    {
     "name": "stdout",
     "output_type": "stream",
     "text": [
      "[[9. 0. 0. 0. 0. 0. 0. 0. 0. 0.]\n",
      " [0. 9. 1. 1. 1. 1. 1. 1. 1. 0.]\n",
      " [0. 1. 9. 1. 1. 1. 1. 1. 1. 0.]\n",
      " [0. 1. 1. 9. 1. 1. 1. 1. 1. 0.]\n",
      " [0. 1. 1. 1. 9. 1. 1. 1. 1. 0.]\n",
      " [0. 1. 1. 1. 1. 9. 1. 1. 1. 0.]\n",
      " [0. 1. 1. 1. 1. 1. 9. 1. 1. 0.]\n",
      " [0. 1. 1. 1. 1. 1. 1. 9. 1. 0.]\n",
      " [0. 1. 1. 1. 1. 1. 1. 1. 9. 0.]\n",
      " [0. 0. 0. 0. 0. 0. 0. 0. 0. 9.]]\n"
     ]
    }
   ],
   "source": [
    "c[1:-1,1:-1] = f\n",
    "print(c)"
   ]
  },
  {
   "cell_type": "code",
   "execution_count": 36,
   "id": "0b82c290",
   "metadata": {},
   "outputs": [
    {
     "name": "stdout",
     "output_type": "stream",
     "text": [
      "[[9. 0. 0. 0. 0. 0. 0. 0. 0. 0.]\n",
      " [0. 9. 1. 1. 1. 1. 1. 1. 1. 0.]\n",
      " [0. 1. 9. 0. 0. 0. 0. 0. 1. 0.]\n",
      " [0. 1. 0. 9. 0. 0. 0. 0. 1. 0.]\n",
      " [0. 1. 0. 0. 9. 0. 0. 0. 1. 0.]\n",
      " [0. 1. 0. 0. 0. 9. 0. 0. 1. 0.]\n",
      " [0. 1. 0. 0. 0. 0. 9. 0. 1. 0.]\n",
      " [0. 1. 0. 0. 0. 0. 0. 9. 1. 0.]\n",
      " [0. 1. 1. 1. 1. 1. 1. 1. 9. 0.]\n",
      " [0. 0. 0. 0. 0. 0. 0. 0. 0. 9.]]\n"
     ]
    }
   ],
   "source": [
    "g = np.identity(6)*9\n",
    "c[2:-2,2:-2] = g\n",
    "print(c)"
   ]
  },
  {
   "cell_type": "code",
   "execution_count": 37,
   "id": "d3523db5",
   "metadata": {},
   "outputs": [
    {
     "name": "stdout",
     "output_type": "stream",
     "text": [
      "[[9. 2. 2. 2.]\n",
      " [2. 9. 2. 2.]\n",
      " [2. 2. 9. 2.]\n",
      " [2. 2. 2. 9.]]\n"
     ]
    }
   ],
   "source": [
    "h = np.ones((4,4))*2\n",
    "i = np.identity(4) * 7\n",
    "j = h + i\n",
    "print(j)"
   ]
  },
  {
   "cell_type": "code",
   "execution_count": 39,
   "id": "263e8ee2",
   "metadata": {},
   "outputs": [
    {
     "name": "stdout",
     "output_type": "stream",
     "text": [
      "[[9. 0. 0. 0. 0. 0. 0. 0. 0. 0.]\n",
      " [0. 9. 1. 1. 1. 1. 1. 1. 1. 0.]\n",
      " [0. 1. 9. 0. 0. 0. 0. 0. 1. 0.]\n",
      " [0. 1. 0. 9. 2. 2. 2. 0. 1. 0.]\n",
      " [0. 1. 0. 2. 9. 2. 2. 0. 1. 0.]\n",
      " [0. 1. 0. 2. 2. 9. 2. 0. 1. 0.]\n",
      " [0. 1. 0. 2. 2. 2. 9. 0. 1. 0.]\n",
      " [0. 1. 0. 0. 0. 0. 0. 9. 1. 0.]\n",
      " [0. 1. 1. 1. 1. 1. 1. 1. 9. 0.]\n",
      " [0. 0. 0. 0. 0. 0. 0. 0. 0. 9.]]\n"
     ]
    }
   ],
   "source": [
    "c[3:-3,3:-3] = j\n",
    "print(c)"
   ]
  },
  {
   "cell_type": "code",
   "execution_count": 41,
   "id": "7bb058da",
   "metadata": {},
   "outputs": [
    {
     "name": "stdout",
     "output_type": "stream",
     "text": [
      "[[9. 0. 0. 0. 0. 0. 0. 0. 0. 0.]\n",
      " [0. 9. 1. 1. 1. 1. 1. 1. 1. 0.]\n",
      " [0. 1. 9. 0. 0. 0. 0. 0. 1. 0.]\n",
      " [0. 1. 0. 9. 2. 2. 2. 0. 1. 0.]\n",
      " [0. 1. 0. 2. 9. 0. 2. 0. 1. 0.]\n",
      " [0. 1. 0. 2. 0. 9. 2. 0. 1. 0.]\n",
      " [0. 1. 0. 2. 2. 2. 9. 0. 1. 0.]\n",
      " [0. 1. 0. 0. 0. 0. 0. 9. 1. 0.]\n",
      " [0. 1. 1. 1. 1. 1. 1. 1. 9. 0.]\n",
      " [0. 0. 0. 0. 0. 0. 0. 0. 0. 9.]]\n"
     ]
    }
   ],
   "source": [
    "k = np.identity(2)*9\n",
    "c[4:-4,4:-4] = k\n",
    "print(c)"
   ]
  },
  {
   "cell_type": "markdown",
   "id": "a8a77c5c",
   "metadata": {},
   "source": [
    "5.20.4 Copy pada Numpy"
   ]
  },
  {
   "cell_type": "code",
   "execution_count": 42,
   "id": "1ccc495b",
   "metadata": {},
   "outputs": [
    {
     "name": "stdout",
     "output_type": "stream",
     "text": [
      "[1 3 5 7 9]\n"
     ]
    }
   ],
   "source": [
    "a = np.array([1,3,5,7,9])\n",
    "print(a)"
   ]
  },
  {
   "cell_type": "code",
   "execution_count": 43,
   "id": "28402f08",
   "metadata": {},
   "outputs": [
    {
     "name": "stdout",
     "output_type": "stream",
     "text": [
      "[1 3 5 7 9]\n"
     ]
    }
   ],
   "source": [
    "b = a\n",
    "print(b)"
   ]
  },
  {
   "cell_type": "code",
   "execution_count": 44,
   "id": "b5d02574",
   "metadata": {},
   "outputs": [
    {
     "name": "stdout",
     "output_type": "stream",
     "text": [
      "[10  3  5  7  9]\n"
     ]
    }
   ],
   "source": [
    "b[0] = 10\n",
    "print(b)"
   ]
  },
  {
   "cell_type": "code",
   "execution_count": 45,
   "id": "e07efa44",
   "metadata": {},
   "outputs": [
    {
     "name": "stdout",
     "output_type": "stream",
     "text": [
      "[10  3  5  7  9]\n"
     ]
    }
   ],
   "source": [
    "print(a)"
   ]
  },
  {
   "cell_type": "code",
   "execution_count": 46,
   "id": "7953da83",
   "metadata": {},
   "outputs": [
    {
     "name": "stdout",
     "output_type": "stream",
     "text": [
      "[ 2  4  6  8 10]\n"
     ]
    }
   ],
   "source": [
    "c = np.array([2,4,6,8,10])\n",
    "print(c)"
   ]
  },
  {
   "cell_type": "code",
   "execution_count": 47,
   "id": "32abab63",
   "metadata": {},
   "outputs": [
    {
     "name": "stdout",
     "output_type": "stream",
     "text": [
      "[ 2  4  6  8 10]\n"
     ]
    }
   ],
   "source": [
    "d = c.copy()\n",
    "print(d)"
   ]
  },
  {
   "cell_type": "code",
   "execution_count": 48,
   "id": "88d35fa0",
   "metadata": {},
   "outputs": [
    {
     "name": "stdout",
     "output_type": "stream",
     "text": [
      "[20  4  6  8 10]\n"
     ]
    }
   ],
   "source": [
    "d[0] = 20\n",
    "print(d)"
   ]
  },
  {
   "cell_type": "code",
   "execution_count": 49,
   "id": "2db316ac",
   "metadata": {},
   "outputs": [
    {
     "name": "stdout",
     "output_type": "stream",
     "text": [
      "[ 2  4  6  8 10]\n"
     ]
    }
   ],
   "source": [
    "print(c)"
   ]
  },
  {
   "cell_type": "markdown",
   "id": "3bfaf505",
   "metadata": {},
   "source": [
    "5.20.5 Operasi Matematika pada Numpy"
   ]
  },
  {
   "cell_type": "code",
   "execution_count": 50,
   "id": "2a6f3926",
   "metadata": {},
   "outputs": [
    {
     "data": {
      "text/plain": [
       "array([12,  5,  7,  9, 11])"
      ]
     },
     "execution_count": 50,
     "metadata": {},
     "output_type": "execute_result"
    }
   ],
   "source": [
    "a+2"
   ]
  },
  {
   "cell_type": "code",
   "execution_count": 51,
   "id": "6e468ca0",
   "metadata": {},
   "outputs": [
    {
     "data": {
      "text/plain": [
       "array([8, 1, 3, 5, 7])"
      ]
     },
     "execution_count": 51,
     "metadata": {},
     "output_type": "execute_result"
    }
   ],
   "source": [
    "a-2"
   ]
  },
  {
   "cell_type": "code",
   "execution_count": 52,
   "id": "865ae719",
   "metadata": {},
   "outputs": [
    {
     "data": {
      "text/plain": [
       "array([20,  6, 10, 14, 18])"
      ]
     },
     "execution_count": 52,
     "metadata": {},
     "output_type": "execute_result"
    }
   ],
   "source": [
    "a*2"
   ]
  },
  {
   "cell_type": "code",
   "execution_count": 53,
   "id": "879b7191",
   "metadata": {},
   "outputs": [
    {
     "data": {
      "text/plain": [
       "array([5. , 1.5, 2.5, 3.5, 4.5])"
      ]
     },
     "execution_count": 53,
     "metadata": {},
     "output_type": "execute_result"
    }
   ],
   "source": [
    "a/2"
   ]
  },
  {
   "cell_type": "code",
   "execution_count": 54,
   "id": "a0008579",
   "metadata": {},
   "outputs": [
    {
     "data": {
      "text/plain": [
       "array([100,   9,  25,  49,  81], dtype=int32)"
      ]
     },
     "execution_count": 54,
     "metadata": {},
     "output_type": "execute_result"
    }
   ],
   "source": [
    "a**2"
   ]
  },
  {
   "cell_type": "code",
   "execution_count": 55,
   "id": "5c189f08",
   "metadata": {},
   "outputs": [
    {
     "name": "stdout",
     "output_type": "stream",
     "text": [
      "[ 2  4  6  8 10]\n"
     ]
    }
   ],
   "source": [
    "b = np.array([2,4,6,8,10])\n",
    "print(b)"
   ]
  },
  {
   "cell_type": "code",
   "execution_count": 56,
   "id": "4eca6c46",
   "metadata": {},
   "outputs": [
    {
     "data": {
      "text/plain": [
       "array([12,  7, 11, 15, 19])"
      ]
     },
     "execution_count": 56,
     "metadata": {},
     "output_type": "execute_result"
    }
   ],
   "source": [
    "a+b"
   ]
  },
  {
   "cell_type": "code",
   "execution_count": 57,
   "id": "67db03c4",
   "metadata": {},
   "outputs": [
    {
     "data": {
      "text/plain": [
       "array([ 8, -1, -1, -1, -1])"
      ]
     },
     "execution_count": 57,
     "metadata": {},
     "output_type": "execute_result"
    }
   ],
   "source": [
    "a-b"
   ]
  },
  {
   "cell_type": "code",
   "execution_count": 58,
   "id": "4f3a8c3c",
   "metadata": {},
   "outputs": [
    {
     "data": {
      "text/plain": [
       "array([20, 12, 30, 56, 90])"
      ]
     },
     "execution_count": 58,
     "metadata": {},
     "output_type": "execute_result"
    }
   ],
   "source": [
    "a*b"
   ]
  },
  {
   "cell_type": "code",
   "execution_count": 59,
   "id": "579c7215",
   "metadata": {},
   "outputs": [
    {
     "data": {
      "text/plain": [
       "array([5.        , 0.75      , 0.83333333, 0.875     , 0.9       ])"
      ]
     },
     "execution_count": 59,
     "metadata": {},
     "output_type": "execute_result"
    }
   ],
   "source": [
    "a/b"
   ]
  },
  {
   "cell_type": "code",
   "execution_count": 60,
   "id": "9064e151",
   "metadata": {},
   "outputs": [
    {
     "data": {
      "text/plain": [
       "array([      1024,         64,       7776,    2097152, 1000000000],\n",
       "      dtype=int32)"
      ]
     },
     "execution_count": 60,
     "metadata": {},
     "output_type": "execute_result"
    }
   ],
   "source": [
    "b**a"
   ]
  },
  {
   "cell_type": "code",
   "execution_count": 67,
   "id": "8c33f18b",
   "metadata": {},
   "outputs": [
    {
     "data": {
      "text/plain": [
       "array([-0.54402111,  0.14112001, -0.95892427,  0.6569866 ,  0.41211849])"
      ]
     },
     "execution_count": 67,
     "metadata": {},
     "output_type": "execute_result"
    }
   ],
   "source": [
    "np.sin(a)"
   ]
  },
  {
   "cell_type": "code",
   "execution_count": 61,
   "id": "07f08049",
   "metadata": {},
   "outputs": [
    {
     "data": {
      "text/plain": [
       "array([-0.83907153, -0.9899925 ,  0.28366219,  0.75390225, -0.91113026])"
      ]
     },
     "execution_count": 61,
     "metadata": {},
     "output_type": "execute_result"
    }
   ],
   "source": [
    "np.cos(a)"
   ]
  },
  {
   "cell_type": "code",
   "execution_count": 62,
   "id": "a08785d9",
   "metadata": {},
   "outputs": [
    {
     "data": {
      "text/plain": [
       "array([ 0.64836083, -0.14254654, -3.38051501,  0.87144798, -0.45231566])"
      ]
     },
     "execution_count": 62,
     "metadata": {},
     "output_type": "execute_result"
    }
   ],
   "source": [
    "np.tan(a)"
   ]
  },
  {
   "cell_type": "code",
   "execution_count": 63,
   "id": "f7d68aa5",
   "metadata": {},
   "outputs": [
    {
     "data": {
      "text/plain": [
       "array([1.10132329e+04, 1.00178749e+01, 7.42032106e+01, 5.48316123e+02,\n",
       "       4.05154190e+03])"
      ]
     },
     "execution_count": 63,
     "metadata": {},
     "output_type": "execute_result"
    }
   ],
   "source": [
    "np.sinh(a)"
   ]
  },
  {
   "cell_type": "code",
   "execution_count": 64,
   "id": "9c126877",
   "metadata": {},
   "outputs": [
    {
     "data": {
      "text/plain": [
       "array([1.10132329e+04, 1.00676620e+01, 7.42099485e+01, 5.48317035e+02,\n",
       "       4.05154203e+03])"
      ]
     },
     "execution_count": 64,
     "metadata": {},
     "output_type": "execute_result"
    }
   ],
   "source": [
    "np.cosh(a)"
   ]
  },
  {
   "cell_type": "code",
   "execution_count": 65,
   "id": "dbdda43d",
   "metadata": {},
   "outputs": [
    {
     "data": {
      "text/plain": [
       "array([1.        , 0.99505475, 0.9999092 , 0.99999834, 0.99999997])"
      ]
     },
     "execution_count": 65,
     "metadata": {},
     "output_type": "execute_result"
    }
   ],
   "source": [
    "np.tanh(a)"
   ]
  },
  {
   "cell_type": "code",
   "execution_count": 66,
   "id": "57d318e8",
   "metadata": {},
   "outputs": [
    {
     "data": {
      "text/plain": [
       "array([3.16227766, 1.73205081, 2.23606798, 2.64575131, 3.        ])"
      ]
     },
     "execution_count": 66,
     "metadata": {},
     "output_type": "execute_result"
    }
   ],
   "source": [
    "np.sqrt(a)"
   ]
  },
  {
   "cell_type": "markdown",
   "id": "33a099a3",
   "metadata": {},
   "source": [
    "5.20.6 Perkalian Matrik pada Numpy"
   ]
  },
  {
   "cell_type": "code",
   "execution_count": 68,
   "id": "b1b38a81",
   "metadata": {},
   "outputs": [
    {
     "name": "stdout",
     "output_type": "stream",
     "text": [
      "[[1 3 5 7]\n",
      " [2 4 6 8]]\n"
     ]
    }
   ],
   "source": [
    "a = np.array([[1,3,5,7],[2,4,6,8]])\n",
    "print(a)"
   ]
  },
  {
   "cell_type": "code",
   "execution_count": 69,
   "id": "3bbb92aa",
   "metadata": {},
   "outputs": [
    {
     "name": "stdout",
     "output_type": "stream",
     "text": [
      "[[ 9 10 11 12]\n",
      " [13 14 15 16]]\n"
     ]
    }
   ],
   "source": [
    "b = np.array([[9,10,11,12],[13,14,15,16]])\n",
    "print(b)"
   ]
  },
  {
   "cell_type": "code",
   "execution_count": 70,
   "id": "4bbc9ffc",
   "metadata": {},
   "outputs": [
    {
     "name": "stdout",
     "output_type": "stream",
     "text": [
      "[[  9  30  55  84]\n",
      " [ 26  56  90 128]]\n"
     ]
    }
   ],
   "source": [
    "c = a*b\n",
    "print(c)"
   ]
  },
  {
   "cell_type": "code",
   "execution_count": null,
   "id": "e4b51a73",
   "metadata": {},
   "outputs": [],
   "source": [
    "d = np.matmul(a,b)"
   ]
  },
  {
   "cell_type": "code",
   "execution_count": 73,
   "id": "4b3cee2a",
   "metadata": {},
   "outputs": [
    {
     "name": "stdout",
     "output_type": "stream",
     "text": [
      "[[ 9 10]\n",
      " [11 12]\n",
      " [13 14]\n",
      " [15 16]]\n"
     ]
    }
   ],
   "source": [
    "e = np.array([[9,10],[11,12],[13,14],[15,16]])\n",
    "print(e)"
   ]
  },
  {
   "cell_type": "code",
   "execution_count": 74,
   "id": "7a8a161d",
   "metadata": {},
   "outputs": [
    {
     "name": "stdout",
     "output_type": "stream",
     "text": [
      "[[212 228]\n",
      " [260 280]]\n"
     ]
    }
   ],
   "source": [
    "f = np.matmul(a,e)\n",
    "print(f)"
   ]
  },
  {
   "cell_type": "code",
   "execution_count": null,
   "id": "b71dacb2",
   "metadata": {},
   "outputs": [],
   "source": [
    "g = a*e"
   ]
  },
  {
   "cell_type": "markdown",
   "id": "5f0a7304",
   "metadata": {},
   "source": [
    "5.20.7 min, max dan sum pada Numpy"
   ]
  },
  {
   "cell_type": "code",
   "execution_count": 77,
   "id": "4c0595bf",
   "metadata": {},
   "outputs": [
    {
     "name": "stdout",
     "output_type": "stream",
     "text": [
      "[[ 2  4  6  8]\n",
      " [ 1  3  5  7]\n",
      " [ 9 10 11 12]]\n"
     ]
    }
   ],
   "source": [
    "a = np.array([[2,4,6,8],\n",
    "              [1,3,5,7],\n",
    "              [9,10,11,12]])\n",
    "print(a)"
   ]
  },
  {
   "cell_type": "code",
   "execution_count": 78,
   "id": "0d37815a",
   "metadata": {},
   "outputs": [
    {
     "name": "stdout",
     "output_type": "stream",
     "text": [
      "1\n"
     ]
    }
   ],
   "source": [
    "b = np.min(a)\n",
    "print(b)"
   ]
  },
  {
   "cell_type": "code",
   "execution_count": 79,
   "id": "f3d65baf",
   "metadata": {},
   "outputs": [
    {
     "name": "stdout",
     "output_type": "stream",
     "text": [
      "[1 3 5 7]\n"
     ]
    }
   ],
   "source": [
    "c = np.min(a,axis=0)\n",
    "print(c)"
   ]
  },
  {
   "cell_type": "code",
   "execution_count": 80,
   "id": "1c4fa8de",
   "metadata": {},
   "outputs": [
    {
     "name": "stdout",
     "output_type": "stream",
     "text": [
      "[2 1 9]\n"
     ]
    }
   ],
   "source": [
    "d = np.min(a,axis=1)\n",
    "print(d)"
   ]
  },
  {
   "cell_type": "code",
   "execution_count": 81,
   "id": "ff2e60d8",
   "metadata": {},
   "outputs": [
    {
     "name": "stdout",
     "output_type": "stream",
     "text": [
      "12\n"
     ]
    }
   ],
   "source": [
    "e = np.max(a)\n",
    "print(e)"
   ]
  },
  {
   "cell_type": "code",
   "execution_count": 82,
   "id": "6f23987b",
   "metadata": {},
   "outputs": [
    {
     "name": "stdout",
     "output_type": "stream",
     "text": [
      "[ 9 10 11 12]\n"
     ]
    }
   ],
   "source": [
    "f = np.max(a,axis=0)\n",
    "print(f)"
   ]
  },
  {
   "cell_type": "code",
   "execution_count": 83,
   "id": "f422ef1f",
   "metadata": {},
   "outputs": [
    {
     "name": "stdout",
     "output_type": "stream",
     "text": [
      "[ 8  7 12]\n"
     ]
    }
   ],
   "source": [
    "g = np.max(a,axis=1)\n",
    "print(g)"
   ]
  },
  {
   "cell_type": "code",
   "execution_count": 84,
   "id": "4dd8bfd6",
   "metadata": {},
   "outputs": [
    {
     "name": "stdout",
     "output_type": "stream",
     "text": [
      "78\n"
     ]
    }
   ],
   "source": [
    "h = np.sum(a)\n",
    "print(h)"
   ]
  },
  {
   "cell_type": "code",
   "execution_count": 85,
   "id": "ef34280f",
   "metadata": {},
   "outputs": [
    {
     "name": "stdout",
     "output_type": "stream",
     "text": [
      "[12 17 22 27]\n"
     ]
    }
   ],
   "source": [
    "h = np.sum(a,axis=0)\n",
    "print(h)"
   ]
  },
  {
   "cell_type": "code",
   "execution_count": 86,
   "id": "2a78491d",
   "metadata": {},
   "outputs": [
    {
     "name": "stdout",
     "output_type": "stream",
     "text": [
      "[20 16 42]\n"
     ]
    }
   ],
   "source": [
    "i = np.sum(a,axis=1)\n",
    "print(i)"
   ]
  }
 ],
 "metadata": {
  "kernelspec": {
   "display_name": "Python 3 (ipykernel)",
   "language": "python",
   "name": "python3"
  },
  "language_info": {
   "codemirror_mode": {
    "name": "ipython",
    "version": 3
   },
   "file_extension": ".py",
   "mimetype": "text/x-python",
   "name": "python",
   "nbconvert_exporter": "python",
   "pygments_lexer": "ipython3",
   "version": "3.9.7"
  }
 },
 "nbformat": 4,
 "nbformat_minor": 5
}
