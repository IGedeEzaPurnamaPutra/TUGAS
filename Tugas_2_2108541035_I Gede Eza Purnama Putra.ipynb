{
 "cells": [
  {
   "cell_type": "markdown",
   "id": "a83ef72c",
   "metadata": {},
   "source": [
    "# 5.12 List di python"
   ]
  },
  {
   "cell_type": "code",
   "execution_count": 1,
   "id": "45503995",
   "metadata": {},
   "outputs": [
    {
     "name": "stdout",
     "output_type": "stream",
     "text": [
      "['mangga', 'pisang', 'rambutan', 'durian']\n"
     ]
    }
   ],
   "source": [
    "buah_035 = ['mangga', 'pisang', 'rambutan', 'durian']\n",
    "print(buah_035)"
   ]
  },
  {
   "cell_type": "code",
   "execution_count": 2,
   "id": "9b17a16a",
   "metadata": {},
   "outputs": [
    {
     "name": "stdout",
     "output_type": "stream",
     "text": [
      "rambutan\n"
     ]
    }
   ],
   "source": [
    "print(buah_035[2])"
   ]
  },
  {
   "cell_type": "code",
   "execution_count": 3,
   "id": "f303a6f4",
   "metadata": {},
   "outputs": [
    {
     "name": "stdout",
     "output_type": "stream",
     "text": [
      "mangga\n"
     ]
    }
   ],
   "source": [
    "print(buah_035[0])"
   ]
  },
  {
   "cell_type": "code",
   "execution_count": 4,
   "id": "fb4e83ee",
   "metadata": {},
   "outputs": [
    {
     "name": "stdout",
     "output_type": "stream",
     "text": [
      "durian\n"
     ]
    }
   ],
   "source": [
    "print(buah_035[3])"
   ]
  },
  {
   "cell_type": "code",
   "execution_count": 5,
   "id": "17675dc0",
   "metadata": {},
   "outputs": [
    {
     "name": "stdout",
     "output_type": "stream",
     "text": [
      "durian\n"
     ]
    }
   ],
   "source": [
    "print(buah_035[-1])"
   ]
  },
  {
   "cell_type": "code",
   "execution_count": 6,
   "id": "74dbd1e9",
   "metadata": {},
   "outputs": [
    {
     "name": "stdout",
     "output_type": "stream",
     "text": [
      "['salak', 'pisang', 'rambutan', 'durian']\n"
     ]
    }
   ],
   "source": [
    "buah_035[0] = 'salak'\n",
    "print(buah_035)"
   ]
  },
  {
   "cell_type": "code",
   "execution_count": 7,
   "id": "eb07b708",
   "metadata": {},
   "outputs": [
    {
     "name": "stdout",
     "output_type": "stream",
     "text": [
      "['salak', 'pisang', 'rambutan']\n"
     ]
    }
   ],
   "source": [
    "print(buah_035[0:3])"
   ]
  },
  {
   "cell_type": "code",
   "execution_count": 8,
   "id": "0183f7f4",
   "metadata": {},
   "outputs": [
    {
     "name": "stdout",
     "output_type": "stream",
     "text": [
      "['salak', 'pisang', 'rambutan', 'durian']\n"
     ]
    }
   ],
   "source": [
    "# tidak merubah list\n",
    "print(buah_035)"
   ]
  },
  {
   "cell_type": "code",
   "execution_count": 9,
   "id": "887a50fe",
   "metadata": {},
   "outputs": [
    {
     "name": "stdout",
     "output_type": "stream",
     "text": [
      "['meja', 'piano', 'ranting', 'dadu', 'dasi']\n"
     ]
    }
   ],
   "source": [
    "benda = ['meja', 'piano', 'ranting', 'dadu', 'dasi']\n",
    "print(benda)"
   ]
  },
  {
   "cell_type": "code",
   "execution_count": 10,
   "id": "d7479415",
   "metadata": {},
   "outputs": [
    {
     "name": "stdout",
     "output_type": "stream",
     "text": [
      "piano\n"
     ]
    }
   ],
   "source": [
    "print(benda[1])"
   ]
  },
  {
   "cell_type": "markdown",
   "id": "a9f0c004",
   "metadata": {},
   "source": [
    "# 5.13 Metoda list"
   ]
  },
  {
   "cell_type": "code",
   "execution_count": 11,
   "id": "53e83274",
   "metadata": {},
   "outputs": [
    {
     "name": "stdout",
     "output_type": "stream",
     "text": [
      "['Wayan', 'Tari', 'Gautama', 'Jaya']\n"
     ]
    }
   ],
   "source": [
    "nama = ['Wayan','Tari','Gautama']\n",
    "nama.append('Jaya')\n",
    "print(nama)"
   ]
  },
  {
   "cell_type": "code",
   "execution_count": 12,
   "id": "871cc92d",
   "metadata": {},
   "outputs": [
    {
     "name": "stdout",
     "output_type": "stream",
     "text": [
      "['Lanang', 'Wayan', 'Tari', 'Gautama', 'Jaya']\n"
     ]
    }
   ],
   "source": [
    "nama.insert(0,'Lanang')\n",
    "print(nama)"
   ]
  },
  {
   "cell_type": "code",
   "execution_count": 13,
   "id": "5f59bd10",
   "metadata": {},
   "outputs": [
    {
     "name": "stdout",
     "output_type": "stream",
     "text": [
      "['Lanang', 'Tari', 'Gautama', 'Jaya']\n"
     ]
    }
   ],
   "source": [
    "nama.remove('Wayan')\n",
    "print(nama)"
   ]
  },
  {
   "cell_type": "code",
   "execution_count": 14,
   "id": "9e984f6c",
   "metadata": {},
   "outputs": [
    {
     "name": "stdout",
     "output_type": "stream",
     "text": [
      "False\n"
     ]
    }
   ],
   "source": [
    "print('Wayan' in nama)"
   ]
  },
  {
   "cell_type": "code",
   "execution_count": 15,
   "id": "41976017",
   "metadata": {},
   "outputs": [
    {
     "name": "stdout",
     "output_type": "stream",
     "text": [
      "True\n"
     ]
    }
   ],
   "source": [
    "print('Jaya' in nama)"
   ]
  },
  {
   "cell_type": "code",
   "execution_count": 16,
   "id": "7808f583",
   "metadata": {},
   "outputs": [
    {
     "name": "stdout",
     "output_type": "stream",
     "text": [
      "4\n"
     ]
    }
   ],
   "source": [
    "print(len(nama))"
   ]
  },
  {
   "cell_type": "markdown",
   "id": "cfc9074e",
   "metadata": {},
   "source": [
    "# 5.14 For loop"
   ]
  },
  {
   "cell_type": "code",
   "execution_count": 17,
   "id": "c2e789b0",
   "metadata": {},
   "outputs": [
    {
     "name": "stdout",
     "output_type": "stream",
     "text": [
      "Tas\n",
      "Lemari\n",
      "Baju\n",
      "Jaket\n",
      "Kabel\n",
      "Kipas\n"
     ]
    }
   ],
   "source": [
    "benda = ['Tas','Lemari','Baju','Jaket','Kabel','Kipas']\n",
    "for jenis in benda:\n",
    "    print(jenis)"
   ]
  },
  {
   "cell_type": "code",
   "execution_count": 18,
   "id": "d0e0effa",
   "metadata": {},
   "outputs": [
    {
     "name": "stdout",
     "output_type": "stream",
     "text": [
      "Tas\n",
      "Lemari\n",
      "Baju\n",
      "Jaket\n",
      "Kabel\n",
      "Kipas\n"
     ]
    }
   ],
   "source": [
    "i = 0\n",
    "while i < len(benda):\n",
    "    print(benda[i])\n",
    "    i+=1"
   ]
  },
  {
   "cell_type": "markdown",
   "id": "d23bad52",
   "metadata": {},
   "source": [
    "# 5.15 Fungsi range"
   ]
  },
  {
   "cell_type": "code",
   "execution_count": 19,
   "id": "acdbde6c",
   "metadata": {},
   "outputs": [
    {
     "name": "stdout",
     "output_type": "stream",
     "text": [
      "range(0, 8)\n"
     ]
    }
   ],
   "source": [
    "angka = range(8)\n",
    "print(angka)"
   ]
  },
  {
   "cell_type": "code",
   "execution_count": 20,
   "id": "864c2679",
   "metadata": {},
   "outputs": [
    {
     "name": "stdout",
     "output_type": "stream",
     "text": [
      "0\n",
      "1\n",
      "2\n",
      "3\n",
      "4\n",
      "5\n",
      "6\n",
      "7\n"
     ]
    }
   ],
   "source": [
    "for isi in angka:\n",
    "    print(isi)"
   ]
  },
  {
   "cell_type": "code",
   "execution_count": 21,
   "id": "5d7f0b79",
   "metadata": {},
   "outputs": [
    {
     "name": "stdout",
     "output_type": "stream",
     "text": [
      "6\n",
      "7\n",
      "8\n",
      "9\n",
      "10\n",
      "11\n"
     ]
    }
   ],
   "source": [
    "for isi in range(6,12):\n",
    "    print(isi)"
   ]
  },
  {
   "cell_type": "code",
   "execution_count": 22,
   "id": "865d2f6e",
   "metadata": {},
   "outputs": [
    {
     "name": "stdout",
     "output_type": "stream",
     "text": [
      "1\n",
      "4\n",
      "7\n",
      "10\n"
     ]
    }
   ],
   "source": [
    "for isi in range(1,13,3):\n",
    "    print(isi)"
   ]
  },
  {
   "cell_type": "markdown",
   "id": "1f85ed71",
   "metadata": {},
   "source": [
    "Latihan 5.15 contoh program untuk mencari nilai terbesar & nilai unik dalam suatu list"
   ]
  },
  {
   "cell_type": "code",
   "execution_count": 23,
   "id": "52020ad4",
   "metadata": {},
   "outputs": [
    {
     "name": "stdout",
     "output_type": "stream",
     "text": [
      "6\n"
     ]
    }
   ],
   "source": [
    "data = [1,2,3,4,5,6,5,4,3,2,1]\n",
    "terbesar = data[0]\n",
    "for i in range(len(data)):\n",
    "    if data[i] > terbesar:\n",
    "        terbesar = data[i]\n",
    "print(terbesar)"
   ]
  },
  {
   "cell_type": "code",
   "execution_count": 24,
   "id": "413c7387",
   "metadata": {},
   "outputs": [
    {
     "name": "stdout",
     "output_type": "stream",
     "text": [
      "6\n"
     ]
    }
   ],
   "source": [
    "data = [1,2,3,4,5,6,5,4,3,2,1]\n",
    "terbesar = data[0]\n",
    "for angka in data:\n",
    "    if angka > terbesar:\n",
    "        terbesar = angka\n",
    "print(terbesar)"
   ]
  },
  {
   "cell_type": "code",
   "execution_count": 25,
   "id": "945ffb98",
   "metadata": {},
   "outputs": [
    {
     "name": "stdout",
     "output_type": "stream",
     "text": [
      "[1, 2, 3, 4, 5, 6, 7, 8]\n"
     ]
    }
   ],
   "source": [
    "angka = [1,1,2,3,4,5,6,7,7,8,7,8]\n",
    "angka_unik = []\n",
    "for anggota in angka:\n",
    "    if anggota not in angka_unik:\n",
    "        angka_unik.append(anggota)\n",
    "print(angka_unik)"
   ]
  },
  {
   "cell_type": "markdown",
   "id": "f9030e97",
   "metadata": {},
   "source": [
    "# 5.16 List 2 dimensi"
   ]
  },
  {
   "cell_type": "code",
   "execution_count": 26,
   "id": "fd295ab4",
   "metadata": {},
   "outputs": [
    {
     "name": "stdout",
     "output_type": "stream",
     "text": [
      "[[1, 2, 3, 4, 5], [6, 7, 8, 9], [10, 11, 12, 13, 14], [15, 16, 17, 18]]\n"
     ]
    }
   ],
   "source": [
    "matrik = [\n",
    "    [1,2,3,4,5],\n",
    "    [6,7,8,9],\n",
    "    [10,11,12,13,14],\n",
    "    [15,16,17,18,]\n",
    "]\n",
    "print(matrik)"
   ]
  },
  {
   "cell_type": "code",
   "execution_count": 27,
   "id": "8a15a4c3",
   "metadata": {},
   "outputs": [
    {
     "data": {
      "text/plain": [
       "[10, 11, 12, 13, 14]"
      ]
     },
     "execution_count": 27,
     "metadata": {},
     "output_type": "execute_result"
    }
   ],
   "source": [
    "matrik[2]"
   ]
  },
  {
   "cell_type": "code",
   "execution_count": 28,
   "id": "16105c61",
   "metadata": {},
   "outputs": [
    {
     "data": {
      "text/plain": [
       "8"
      ]
     },
     "execution_count": 28,
     "metadata": {},
     "output_type": "execute_result"
    }
   ],
   "source": [
    "matrik[1][2]"
   ]
  },
  {
   "cell_type": "code",
   "execution_count": 29,
   "id": "b6e0a37e",
   "metadata": {},
   "outputs": [
    {
     "name": "stdout",
     "output_type": "stream",
     "text": [
      "100\n"
     ]
    }
   ],
   "source": [
    "matrik[1][2]=100\n",
    "print(matrik[1][2])"
   ]
  },
  {
   "cell_type": "code",
   "execution_count": 30,
   "id": "923fc5e3",
   "metadata": {},
   "outputs": [
    {
     "data": {
      "text/plain": [
       "[[1, 2, 3, 4, 5], [6, 7, 100, 9], [10, 11, 12, 13, 14], [15, 16, 17, 18]]"
      ]
     },
     "execution_count": 30,
     "metadata": {},
     "output_type": "execute_result"
    }
   ],
   "source": [
    "matrik"
   ]
  },
  {
   "cell_type": "code",
   "execution_count": 31,
   "id": "5a3ff392",
   "metadata": {},
   "outputs": [
    {
     "name": "stdout",
     "output_type": "stream",
     "text": [
      "[1, 2, 3, 4, 5]\n",
      "1\n",
      "2\n",
      "3\n",
      "4\n",
      "5\n",
      "[6, 7, 100, 9]\n",
      "6\n",
      "7\n",
      "100\n",
      "9\n",
      "[10, 11, 12, 13, 14]\n",
      "10\n",
      "11\n",
      "12\n",
      "13\n",
      "14\n",
      "[15, 16, 17, 18]\n",
      "15\n",
      "16\n",
      "17\n",
      "18\n"
     ]
    }
   ],
   "source": [
    "for baris in matrik:\n",
    "    print(baris)\n",
    "    for kolom in baris:\n",
    "        print(kolom)"
   ]
  },
  {
   "cell_type": "markdown",
   "id": "954a348b",
   "metadata": {},
   "source": [
    "# 5.17 Tuples"
   ]
  },
  {
   "cell_type": "code",
   "execution_count": 32,
   "id": "d637b7d9",
   "metadata": {},
   "outputs": [],
   "source": [
    "angka = (0,1,1,2,4,5,6)"
   ]
  },
  {
   "cell_type": "code",
   "execution_count": 33,
   "id": "7a1b5124",
   "metadata": {},
   "outputs": [
    {
     "name": "stdout",
     "output_type": "stream",
     "text": [
      "6\n"
     ]
    }
   ],
   "source": [
    "print(angka[-1])"
   ]
  },
  {
   "cell_type": "code",
   "execution_count": 34,
   "id": "deb9860f",
   "metadata": {},
   "outputs": [
    {
     "name": "stdout",
     "output_type": "stream",
     "text": [
      "(0, 1, 1, 2)\n"
     ]
    }
   ],
   "source": [
    "print(angka[0:4])"
   ]
  },
  {
   "cell_type": "code",
   "execution_count": 35,
   "id": "5768e3e4",
   "metadata": {},
   "outputs": [
    {
     "name": "stdout",
     "output_type": "stream",
     "text": [
      "0\n",
      "1\n",
      "1\n",
      "2\n"
     ]
    }
   ],
   "source": [
    "for isi in angka [0:4]:\n",
    "    print(isi)"
   ]
  },
  {
   "cell_type": "code",
   "execution_count": 36,
   "id": "fbeaec7a",
   "metadata": {},
   "outputs": [
    {
     "data": {
      "text/plain": [
       "2"
      ]
     },
     "execution_count": 36,
     "metadata": {},
     "output_type": "execute_result"
    }
   ],
   "source": [
    "angka.count(1)"
   ]
  },
  {
   "cell_type": "code",
   "execution_count": 37,
   "id": "504df089",
   "metadata": {},
   "outputs": [
    {
     "data": {
      "text/plain": [
       "1"
      ]
     },
     "execution_count": 37,
     "metadata": {},
     "output_type": "execute_result"
    }
   ],
   "source": [
    "angka.count(2)"
   ]
  },
  {
   "cell_type": "markdown",
   "id": "6aac216a",
   "metadata": {},
   "source": [
    "# 5.18 Dictionaries"
   ]
  },
  {
   "cell_type": "code",
   "execution_count": 38,
   "id": "5608053a",
   "metadata": {},
   "outputs": [],
   "source": [
    "data_orang_035 = {\n",
    "    \"nama\" : \"Ketut Dogler\",\n",
    "    \"umur\" : 12,\n",
    "    \"apakah_singel\" : False\n",
    "}"
   ]
  },
  {
   "cell_type": "code",
   "execution_count": 39,
   "id": "448eefa4",
   "metadata": {},
   "outputs": [
    {
     "name": "stdout",
     "output_type": "stream",
     "text": [
      "Ketut Dogler\n"
     ]
    }
   ],
   "source": [
    "print(data_orang_035['nama'])"
   ]
  },
  {
   "cell_type": "code",
   "execution_count": 40,
   "id": "982f6725",
   "metadata": {},
   "outputs": [],
   "source": [
    "angka = {\n",
    "    \"0\" : \"nol\",\n",
    "    \"1\" : \"satu\",\n",
    "    \"2\" : \"dua\",\n",
    "    \"3\" : \"tiga\",\n",
    "    \"4\" : \"empat\",\n",
    "    \"5\" : \"lima\",\n",
    "    \"6\" : \"enam\",\n",
    "    \"7\" : \"tujuh\",\n",
    "    \"8\" : \"delapan\",\n",
    "    \"9\" : \"sembilan\"\n",
    "}"
   ]
  },
  {
   "cell_type": "code",
   "execution_count": 41,
   "id": "b65a7755",
   "metadata": {},
   "outputs": [
    {
     "name": "stdout",
     "output_type": "stream",
     "text": [
      "Masukkan nomor HP anda 082146696704\n",
      "nol delapan dua satu empat enam enam sembilan enam tujuh nol empat \n"
     ]
    }
   ],
   "source": [
    "nomor_HP = input(\"Masukkan nomor HP anda \")\n",
    "nomor_angka = \"\"\n",
    "for isi in nomor_HP:\n",
    "    nomor_angka += angka.get(isi) + \" \"\n",
    "print(nomor_angka)"
   ]
  },
  {
   "cell_type": "markdown",
   "id": "f0db5928",
   "metadata": {},
   "source": [
    "# 5.19 Fungsi dalam Python"
   ]
  },
  {
   "cell_type": "code",
   "execution_count": 42,
   "id": "528a723c",
   "metadata": {},
   "outputs": [],
   "source": [
    "def full_nama(first_name,last_name):\n",
    "    print(f\"Nama lengkapnya adalah {first_name} {last_name}\")"
   ]
  },
  {
   "cell_type": "code",
   "execution_count": 43,
   "id": "5580b5b4",
   "metadata": {},
   "outputs": [
    {
     "name": "stdout",
     "output_type": "stream",
     "text": [
      "Nama depan anda adalah Eza\n",
      "Nama belakang anda adalah Purnama\n",
      "Nama lengkapnya adalah Eza Purnama\n"
     ]
    }
   ],
   "source": [
    "first_name = input(\"Nama depan anda adalah \")\n",
    "last_name = input(\"Nama belakang anda adalah \")\n",
    "full_nama(first_name,last_name)"
   ]
  },
  {
   "cell_type": "markdown",
   "id": "c0e4c923",
   "metadata": {},
   "source": [
    "5.19.1 Tugas Fungsi pada Python"
   ]
  },
  {
   "cell_type": "code",
   "execution_count": 44,
   "id": "ced95f84",
   "metadata": {},
   "outputs": [],
   "source": [
    "def waktu_sampai(jarak,kecepatan):\n",
    "    waktu = jarak/kecepatan\n",
    "    return(waktu)"
   ]
  },
  {
   "cell_type": "code",
   "execution_count": 45,
   "id": "980a0d4d",
   "metadata": {},
   "outputs": [],
   "source": [
    "def waktu_tempuh(jarak,kecepatan):\n",
    "    waktu = jarak/kecepatan\n",
    "    return waktu"
   ]
  },
  {
   "cell_type": "code",
   "execution_count": 46,
   "id": "c35b455e",
   "metadata": {},
   "outputs": [
    {
     "data": {
      "text/plain": [
       "1.3333333333333333"
      ]
     },
     "execution_count": 46,
     "metadata": {},
     "output_type": "execute_result"
    }
   ],
   "source": [
    "waktu_sampai (80,60)"
   ]
  },
  {
   "cell_type": "code",
   "execution_count": 47,
   "id": "a44bff55",
   "metadata": {},
   "outputs": [
    {
     "data": {
      "text/plain": [
       "1.3333333333333333"
      ]
     },
     "execution_count": 47,
     "metadata": {},
     "output_type": "execute_result"
    }
   ],
   "source": [
    "waktu_tempuh(80,60)"
   ]
  },
  {
   "cell_type": "code",
   "execution_count": 48,
   "id": "a31f54b7",
   "metadata": {},
   "outputs": [
    {
     "name": "stdout",
     "output_type": "stream",
     "text": [
      "1.3333333333333333\n"
     ]
    }
   ],
   "source": [
    "a = waktu_sampai(80,60)\n",
    "print(a)"
   ]
  },
  {
   "cell_type": "code",
   "execution_count": 49,
   "id": "9c7b10c1",
   "metadata": {},
   "outputs": [
    {
     "name": "stdout",
     "output_type": "stream",
     "text": [
      "1.3333333333333333\n"
     ]
    }
   ],
   "source": [
    "b = waktu_tempuh(80,60)\n",
    "print(b)"
   ]
  },
  {
   "cell_type": "markdown",
   "id": "5b573559",
   "metadata": {},
   "source": [
    "Latihan: Buatlah program yang menggunakan fungsi Python untuk menghitung luas segitiga, lingkaran, persegi dan persegi panjang. Selain itu berikan peringatan bagi bidang lain yang tidak termasuk perhitungan."
   ]
  },
  {
   "cell_type": "code",
   "execution_count": 50,
   "id": "b732b365",
   "metadata": {},
   "outputs": [],
   "source": [
    "import numpy as np"
   ]
  },
  {
   "cell_type": "code",
   "execution_count": 51,
   "id": "e48e6c92",
   "metadata": {},
   "outputs": [],
   "source": [
    "def luas_segitiga(alas,tinggi):\n",
    "    luas = (1/2)*alas*tinggi\n",
    "    return luas\n",
    "def luas_lingkaran(jari_jari):\n",
    "    luas = np.pi*(jari_jari**2)\n",
    "    return luas\n",
    "def luas_persegi(sisi):\n",
    "    luas = sisi**2\n",
    "    return luas\n",
    "def luas_persegi_panjang(panjang,lebar):\n",
    "    luas = panjang*lebar\n",
    "    return luas"
   ]
  },
  {
   "cell_type": "code",
   "execution_count": 52,
   "id": "2b71b0c3",
   "metadata": {},
   "outputs": [
    {
     "name": "stdout",
     "output_type": "stream",
     "text": [
      "Tulis jenis bidangnya Lingkaran\n",
      "Berapakah panjang jari-jarinya? 7\n",
      "Luas (jenis_bidang) adalah 153.93804002589985\n"
     ]
    }
   ],
   "source": [
    "jenis_bidang = input(\"Tulis jenis bidangnya \")\n",
    "if jenis_bidang.upper() == 'SEGITIGA' :\n",
    "    alas = float(input('Berapakah panjang alasnya? '))\n",
    "    tinggi = float(input('Berapakah tingginya? '))\n",
    "    luas = luas_segitiga(alas,tinggi)\n",
    "    print(f\"Luas (jenis_bidang) adalah {luas}\")\n",
    "elif jenis_bidang.upper() == 'LINGKARAN':\n",
    "    jari_jari = float(input('Berapakah panjang jari-jarinya? '))\n",
    "    luas = luas_lingkaran(jari_jari)\n",
    "    print(f\"Luas (jenis_bidang) adalah {luas}\")\n",
    "elif jenis_bidang.upper() == 'PERSEGI' or (jenis_bidang.upper() == 'BUJUR SANGKAR'): \n",
    "    sisi = float(input('Berapakah panjang sisinya? '))\n",
    "    luas = luas_persegi(sisi)\n",
    "    print(f\"Luas (jenis_bidang) adalah {luas}\")\n",
    "elif jenis_bidang.upper() == 'PERSEGI PANJANG':\n",
    "    panjang = float(input('Berapakah panjangnya? '))\n",
    "    lebar = float(input('Berapakah 1ebarnya? '))\n",
    "    luas = luas_persegi_panjang(panjang,lebar)\n",
    "    print(f\"Luas (jenis_bidang) adalah {luas}\")\n",
    "else:\n",
    "    print(f\"Maaf bidang (jenis_bidang) yang anda masukkan tidak ada.\")\n",
    "    print(\"Pilihan cuma SEGITIGA, LINGKARAN, PERSEGI dan PERSEGI PANJANG.\")\n",
    "    print('Terimakasih')"
   ]
  },
  {
   "cell_type": "markdown",
   "id": "f11552fc",
   "metadata": {},
   "source": [
    "Volume Bangun Ruang"
   ]
  },
  {
   "cell_type": "code",
   "execution_count": 53,
   "id": "f4827790",
   "metadata": {},
   "outputs": [],
   "source": [
    "def volume_kerucut(jari_jari,tinggi):\n",
    "    volume = (1/3)*np.pi*(jari_jari**2)*tinggi\n",
    "    return volume\n",
    "def volume_tabung(jari_jari,tinggi):\n",
    "    volume = np.pi*(jari_jari**2)*tinggi\n",
    "    return volume\n",
    "def volume_kubus(sisi):\n",
    "    volume = sisi**3\n",
    "    return volume\n",
    "def volume_balok(panjang,lebar,tinggi):\n",
    "    volume = panjang*lebar*tinggi\n",
    "    return volume"
   ]
  },
  {
   "cell_type": "code",
   "execution_count": 55,
   "id": "e4ad337b",
   "metadata": {},
   "outputs": [
    {
     "name": "stdout",
     "output_type": "stream",
     "text": [
      "Tulis jenis bidangnya kerucut\n",
      "Berapakah panjang jari-jarinya? 10\n",
      "Berapakah tingginya? 3\n",
      "Volume (jenis_bidang) adalah 314.15926535897927\n"
     ]
    }
   ],
   "source": [
    "jenis_bidang = input(\"Tulis jenis bidangnya \")\n",
    "if jenis_bidang.upper() == 'KERUCUT' :\n",
    "    jari_jari = float(input('Berapakah panjang jari-jarinya? '))\n",
    "    tinggi = float(input('Berapakah tingginya? '))\n",
    "    volume = volume_kerucut(jari_jari,tinggi)\n",
    "    print(f\"Volume (jenis_bidang) adalah {volume}\")\n",
    "elif jenis_bidang.upper() == 'TABUNG':\n",
    "    jari_jari = float(input('Berapakah panjang jari-jarinya? '))\n",
    "    tinggi = float(input('Berapakah tingginya? '))\n",
    "    volume = volume_tabung(jari_jari,tinggi)\n",
    "    print(f\"Volume (jenis_bidang) adalah {volume}\")\n",
    "elif jenis_bidang.upper() == 'KUBUS' : \n",
    "    sisi = float(input('Berapakah panjang sisinya? '))\n",
    "    volume = volume_kubus(sisi)\n",
    "    print(f\"Volume (jenis_bidang) adalah {volume}\")\n",
    "elif jenis_bidang.upper() == 'BALOK':\n",
    "    panjang = float(input('Berapakah panjangnya? '))\n",
    "    lebar = float(input('Berapakah 1ebarnya? '))\n",
    "    tinggi = float(input('Berapakah tingginya? '))\n",
    "    volume = volume_balok(panjang,lebar,tinggi)\n",
    "    print(f\"Volume (jenis_bidang) adalah {volume}\")\n",
    "else:\n",
    "    print(f\"Maaf bidang (jenis_bidang) yang anda masukkan tidak ada.\")\n",
    "    print(\"Pilihan cuma KERUCUT, TABUNG, KUBUS dan BALOK.\")\n",
    "    print('Terimakasih')"
   ]
  },
  {
   "cell_type": "markdown",
   "id": "adbe6853",
   "metadata": {},
   "source": [
    "Luas Permukaan Bangun Ruang"
   ]
  },
  {
   "cell_type": "code",
   "execution_count": 63,
   "id": "59fac7a3",
   "metadata": {},
   "outputs": [],
   "source": [
    "def luas_permukaan_kerucut(jari_jari,sisi_miring):\n",
    "    lp = jari_jari*np.pi*(sisi_miring+jari_jari)\n",
    "    return lp\n",
    "def luas_permukaan_tabung(jari_jari,tinggi):\n",
    "    lp = (2*np.pi*(jari_jari)*tinggi)+(2*np.pi*jari_jari**2)\n",
    "    return lp\n",
    "def luas_permukaan_kubus(sisi):\n",
    "    lp = 6*(sisi**2)\n",
    "    return lp\n",
    "def luas_permukaan_balok(panjang,lebar,tinggi):\n",
    "    lp = 2*((panjang*lebar)+(panjang*tinggi)+(lebar*tinggi))\n",
    "    return lp"
   ]
  },
  {
   "cell_type": "code",
   "execution_count": 64,
   "id": "9ad7a193",
   "metadata": {},
   "outputs": [
    {
     "name": "stdout",
     "output_type": "stream",
     "text": [
      "Tulis jenis bidangnya kubus\n",
      "Berapakah panjang sisinya? 2\n",
      "Luas permukaan (jenis_bidang) adalah 24.0\n"
     ]
    }
   ],
   "source": [
    "jenis_bidang = input(\"Tulis jenis bidangnya \")\n",
    "if jenis_bidang.upper() == 'KERUCUT' :\n",
    "    jari_jari = float(input('Berapakah panjang jari-jarinya? '))\n",
    "    sisi_miring = float(input('Berapakah sisi miringnya? '))\n",
    "    Lp = luas_permukaan_kerucut(jari_jari,sisi_miring)\n",
    "    print(f\"Luas permukaan (jenis_bidang) adalah {Lp}\")\n",
    "elif jenis_bidang.upper() == 'TABUNG':\n",
    "    jari_jari = float(input('Berapakah panjang jari-jarinya? '))\n",
    "    tinggi = float(input('Berapakah tingginya? '))\n",
    "    Lp = luas_permukaan_tabung(jari_jari,tinggi)\n",
    "    print(f\"Luas permukaan (jenis_bidang) adalah {Lp}\")\n",
    "elif jenis_bidang.upper() == 'KUBUS' : \n",
    "    sisi = float(input('Berapakah panjang sisinya? '))\n",
    "    Lp = luas_permukaan_kubus(sisi)\n",
    "    print(f\"Luas permukaan (jenis_bidang) adalah {Lp}\")\n",
    "elif jenis_bidang.upper() == 'BALOK':\n",
    "    panjang = float(input('Berapakah panjangnya? '))\n",
    "    lebar = float(input('Berapakah 1ebarnya? '))\n",
    "    tinggi = float(input('Berapakah tingginya? '))\n",
    "    Lp = luas_permukaan_balok(panjang,lebar,tinggi)\n",
    "    print(f\"Luas permukaan (jenis_bidang) adalah {Lp}\")\n",
    "else:\n",
    "    print(f\"Maaf bidang (jenis_bidang) yang anda masukkan tidak ada.\")\n",
    "    print(\"Pilihan cuma KERUCUT, TABUNG, KUBUS dan BALOK.\")\n",
    "    print('Terimakasih')"
   ]
  }
 ],
 "metadata": {
  "kernelspec": {
   "display_name": "Python 3 (ipykernel)",
   "language": "python",
   "name": "python3"
  },
  "language_info": {
   "codemirror_mode": {
    "name": "ipython",
    "version": 3
   },
   "file_extension": ".py",
   "mimetype": "text/x-python",
   "name": "python",
   "nbconvert_exporter": "python",
   "pygments_lexer": "ipython3",
   "version": "3.9.7"
  }
 },
 "nbformat": 4,
 "nbformat_minor": 5
}
